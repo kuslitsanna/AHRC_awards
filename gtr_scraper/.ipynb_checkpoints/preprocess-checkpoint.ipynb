{
 "cells": [
  {
   "cell_type": "code",
   "execution_count": 1,
   "id": "a0ba1376-39a6-4a91-9e83-feb7aadd9d0a",
   "metadata": {},
   "outputs": [],
   "source": [
    "import pandas as pd"
   ]
  },
  {
   "cell_type": "code",
   "execution_count": 2,
   "id": "27155a64-ea25-4b00-b07e-831809e5579a",
   "metadata": {},
   "outputs": [],
   "source": [
    "dataf = pd.read_excel('data_for_modeling.xlsx')"
   ]
  },
  {
   "cell_type": "code",
   "execution_count": 3,
   "id": "829986a7-86cf-4477-93b4-4c46b4185397",
   "metadata": {},
   "outputs": [
    {
     "name": "stdout",
     "output_type": "stream",
     "text": [
      "     ProjectReference  StartDate    EndDate  \\\n",
      "0        AH/X000516/1 2022-02-01 2022-12-31   \n",
      "1        AH/N006011/1 2016-03-01 2017-02-28   \n",
      "2        AH/M010813/1 2016-01-01 2019-03-31   \n",
      "3        AH/K007084/1 2014-03-01 2017-12-31   \n",
      "4        AH/L007290/1 2014-01-01 2016-05-30   \n",
      "...               ...        ...        ...   \n",
      "2265     AH/M010589/1 2016-09-30 2017-03-30   \n",
      "2266     AH/P005039/1 2017-01-01 2020-12-31   \n",
      "2267     AH/K005936/1 2014-01-01 2016-07-30   \n",
      "2268     AH/V015761/1 2021-12-01 2023-03-30   \n",
      "2269     AH/N504518/1 2015-12-01 2020-03-30   \n",
      "\n",
      "                                                AllText  \n",
      "0     India 75 Events 2022 marks the conclusion of t...  \n",
      "1     The action-based brain: a provocation to philo...  \n",
      "2     Imprint. A Forensic and Historical Investigati...  \n",
      "3     Structural and typological variation in the di...  \n",
      "4     Judging images: the making, management and con...  \n",
      "...                                                 ...  \n",
      "2265  Digital Technology and Human Vulnerability: To...  \n",
      "2266  Pinter Histories and Legacies: The Impact of H...  \n",
      "2267  Cultures, Communities and Connections in the H...  \n",
      "2268  Licensing System for 3D Printing in China - im...  \n",
      "2269  AHRC Leadership Fellowship Connected Communiti...  \n",
      "\n",
      "[2270 rows x 4 columns]\n"
     ]
    }
   ],
   "source": [
    "print(dataf)"
   ]
  },
  {
   "cell_type": "code",
   "execution_count": 4,
   "id": "2c66c524-3910-43ae-a3da-7b8da44a1a0e",
   "metadata": {},
   "outputs": [],
   "source": [
    "import nltk\n",
    "from nltk import word_tokenize\n",
    "from nltk.corpus import stopwords\n",
    "from nltk.stem import WordNetLemmatizer"
   ]
  },
  {
   "cell_type": "code",
   "execution_count": 5,
   "id": "7770c3fe-559b-4d23-b0db-edb5b4c8af43",
   "metadata": {},
   "outputs": [],
   "source": [
    "from gensim.corpora import Dictionary\n",
    "from gensim.models import ldamodel\n",
    "from gensim.models.coherencemodel import CoherenceModel\n",
    "from wordcloud import WordCloud"
   ]
  },
  {
   "cell_type": "code",
   "execution_count": 6,
   "id": "ffecbb49-50cf-42ba-8397-2a53850be94c",
   "metadata": {},
   "outputs": [],
   "source": [
    "from PIL  import Image\n",
    "import numpy as np\n",
    "import random\n",
    "import re\n",
    "import matplotlib.pyplot as plt"
   ]
  },
  {
   "cell_type": "code",
   "execution_count": 7,
   "id": "b4c285c9-51fd-4cbc-90e5-3555c586a7f4",
   "metadata": {},
   "outputs": [
    {
     "name": "stderr",
     "output_type": "stream",
     "text": [
      "[nltk_data] Downloading package punkt to\n",
      "[nltk_data]     C:\\Users\\kusli\\AppData\\Roaming\\nltk_data...\n",
      "[nltk_data]   Package punkt is already up-to-date!\n",
      "[nltk_data] Downloading package stopwords to\n",
      "[nltk_data]     C:\\Users\\kusli\\AppData\\Roaming\\nltk_data...\n",
      "[nltk_data]   Package stopwords is already up-to-date!\n",
      "[nltk_data] Downloading package vader_lexicon to\n",
      "[nltk_data]     C:\\Users\\kusli\\AppData\\Roaming\\nltk_data...\n",
      "[nltk_data]   Package vader_lexicon is already up-to-date!\n",
      "[nltk_data] Downloading package wordnet to\n",
      "[nltk_data]     C:\\Users\\kusli\\AppData\\Roaming\\nltk_data...\n",
      "[nltk_data]   Package wordnet is already up-to-date!\n"
     ]
    },
    {
     "data": {
      "text/plain": [
       "True"
      ]
     },
     "execution_count": 7,
     "metadata": {},
     "output_type": "execute_result"
    }
   ],
   "source": [
    "nltk.download('punkt')\n",
    "nltk.download('stopwords')\n",
    "nltk.download('vader_lexicon')\n",
    "nltk.download('wordnet')"
   ]
  },
  {
   "cell_type": "code",
   "execution_count": 8,
   "id": "3ddcc60d-98e4-4968-aa8c-c8f8fa0c7504",
   "metadata": {},
   "outputs": [],
   "source": [
    "dataf['AllText'] = dataf['AllText'].str.lower()\n",
    "dataf['AllText'] = dataf['AllText'].str.replace(r'[^A-Za-z\\s]',' ', regex = True)"
   ]
  },
  {
   "cell_type": "code",
   "execution_count": 9,
   "id": "65743709-e61a-46a0-a4b3-0f7c193b454e",
   "metadata": {},
   "outputs": [
    {
     "name": "stdout",
     "output_type": "stream",
     "text": [
      "     ProjectReference  StartDate    EndDate  \\\n",
      "0        AH/X000516/1 2022-02-01 2022-12-31   \n",
      "1        AH/N006011/1 2016-03-01 2017-02-28   \n",
      "2        AH/M010813/1 2016-01-01 2019-03-31   \n",
      "3        AH/K007084/1 2014-03-01 2017-12-31   \n",
      "4        AH/L007290/1 2014-01-01 2016-05-30   \n",
      "...               ...        ...        ...   \n",
      "2265     AH/M010589/1 2016-09-30 2017-03-30   \n",
      "2266     AH/P005039/1 2017-01-01 2020-12-31   \n",
      "2267     AH/K005936/1 2014-01-01 2016-07-30   \n",
      "2268     AH/V015761/1 2021-12-01 2023-03-30   \n",
      "2269     AH/N504518/1 2015-12-01 2020-03-30   \n",
      "\n",
      "                                                AllText  \n",
      "0     india    events      marks the conclusion of t...  \n",
      "1     the action based brain  a provocation to philo...  \n",
      "2     imprint  a forensic and historical investigati...  \n",
      "3     structural and typological variation in the di...  \n",
      "4     judging images  the making  management and con...  \n",
      "...                                                 ...  \n",
      "2265  digital technology and human vulnerability  to...  \n",
      "2266  pinter histories and legacies  the impact of h...  \n",
      "2267  cultures  communities and connections in the h...  \n",
      "2268  licensing system for  d printing in china   im...  \n",
      "2269  ahrc leadership fellowship connected communiti...  \n",
      "\n",
      "[2270 rows x 4 columns]\n"
     ]
    }
   ],
   "source": [
    "print(dataf)"
   ]
  },
  {
   "cell_type": "code",
   "execution_count": 10,
   "id": "450ae601-09e2-48f1-9238-8eaee23256f4",
   "metadata": {},
   "outputs": [],
   "source": [
    "def lemmatize_text(dataf):\n",
    "    lemmatizer = WordNetLemmatizer()\n",
    "    # Split the text into words and lemmatize each word\n",
    "    lemmatized_words = [lemmatizer.lemmatize(word) for word in dataf.split()]\n",
    "    # Join the lemmatized words back into a string\n",
    "    lemmatized_text = ' '.join(lemmatized_words)\n",
    "    return lemmatized_text"
   ]
  },
  {
   "cell_type": "code",
   "execution_count": 11,
   "id": "8f540d3a-77c2-48f6-af04-f7891bf24d48",
   "metadata": {},
   "outputs": [
    {
     "name": "stdout",
     "output_type": "stream",
     "text": [
      "     ProjectReference  StartDate    EndDate  \\\n",
      "0        AH/X000516/1 2022-02-01 2022-12-31   \n",
      "1        AH/N006011/1 2016-03-01 2017-02-28   \n",
      "2        AH/M010813/1 2016-01-01 2019-03-31   \n",
      "3        AH/K007084/1 2014-03-01 2017-12-31   \n",
      "4        AH/L007290/1 2014-01-01 2016-05-30   \n",
      "...               ...        ...        ...   \n",
      "2265     AH/M010589/1 2016-09-30 2017-03-30   \n",
      "2266     AH/P005039/1 2017-01-01 2020-12-31   \n",
      "2267     AH/K005936/1 2014-01-01 2016-07-30   \n",
      "2268     AH/V015761/1 2021-12-01 2023-03-30   \n",
      "2269     AH/N504518/1 2015-12-01 2020-03-30   \n",
      "\n",
      "                                                AllText  \n",
      "0     india event mark the conclusion of the ahrc fu...  \n",
      "1     the action based brain a provocation to philos...  \n",
      "2     imprint a forensic and historical investigatio...  \n",
      "3     structural and typological variation in the di...  \n",
      "4     judging image the making management and consum...  \n",
      "...                                                 ...  \n",
      "2265  digital technology and human vulnerability tow...  \n",
      "2266  pinter history and legacy the impact of harold...  \n",
      "2267  culture community and connection in the hiv se...  \n",
      "2268  licensing system for d printing in china impac...  \n",
      "2269  ahrc leadership fellowship connected community...  \n",
      "\n",
      "[2270 rows x 4 columns]\n"
     ]
    }
   ],
   "source": [
    "dataf['AllText'] = dataf['AllText'].apply(lemmatize_text)\n",
    "print(dataf)"
   ]
  },
  {
   "cell_type": "code",
   "execution_count": 12,
   "id": "aa59cad9-767f-4b1e-b151-37b2c00b6bdd",
   "metadata": {},
   "outputs": [],
   "source": [
    "bigram_measures = nltk.collocations.BigramAssocMeasures()\n",
    "finder = nltk.collocations.BigramCollocationFinder.from_documents([abstract.split() for abstract in dataf.AllText])\n",
    "\n",
    "# Filter only those that occur at least 50 times\n",
    "finder.apply_freq_filter(25)\n",
    "bigram_scores = finder.score_ngrams(bigram_measures.pmi)"
   ]
  },
  {
   "cell_type": "code",
   "execution_count": 13,
   "id": "b1be9b54-8362-4783-bf94-6a46f5779503",
   "metadata": {},
   "outputs": [],
   "source": [
    "trigram_measures = nltk.collocations.TrigramAssocMeasures()\n",
    "finder = nltk.collocations.TrigramCollocationFinder.from_documents([abstract.split() for abstract in dataf.AllText])\n",
    "# Filter only those that occur at least 50 times\n",
    "finder.apply_freq_filter(50)\n",
    "trigram_scores = finder.score_ngrams(trigram_measures.pmi)\n"
   ]
  },
  {
   "cell_type": "code",
   "execution_count": 14,
   "id": "5a997ebf-5713-4327-abff-423aecaf450b",
   "metadata": {},
   "outputs": [],
   "source": [
    "bigram_pmi = pd.DataFrame(bigram_scores)\n",
    "bigram_pmi.columns = ['bigram', 'pmi']\n",
    "bigram_pmi.sort_values(by='pmi', axis = 0, ascending = False, inplace = True)"
   ]
  },
  {
   "cell_type": "code",
   "execution_count": 15,
   "id": "71bf2751-1359-4247-83fc-eea789cfa2c2",
   "metadata": {},
   "outputs": [],
   "source": [
    "trigram_pmi = pd.DataFrame(trigram_scores)\n",
    "trigram_pmi.columns = ['trigram', 'pmi']\n",
    "trigram_pmi.sort_values(by='pmi', axis = 0, ascending = False, inplace = True)"
   ]
  },
  {
   "cell_type": "code",
   "execution_count": 16,
   "id": "37bcb5ce-0995-4e71-9cdb-d04155060f9b",
   "metadata": {},
   "outputs": [],
   "source": [
    "# Filter for bigrams with only noun-type structures\n",
    "def bigram_filter(bigram):\n",
    "    tag = nltk.pos_tag(bigram)\n",
    "    if tag[0][1] not in ['JJ', 'NN'] and tag[1][1] not in ['NN']:\n",
    "        return False\n",
    "    if bigram[0] in stop_word_list or bigram[1] in stop_word_list:\n",
    "        return False\n",
    "    if 'n' in bigram or 't' in bigram:\n",
    "        return False\n",
    "    if 'PRON' in bigram:\n",
    "        return False\n",
    "    return True"
   ]
  },
  {
   "cell_type": "code",
   "execution_count": 17,
   "id": "8a1ec609-808e-44fc-a4fd-0c68bb156036",
   "metadata": {},
   "outputs": [],
   "source": [
    "# Filter for trigrams with only noun-type structures\n",
    "def trigram_filter(trigram):\n",
    "    tag = nltk.pos_tag(trigram)\n",
    "    if tag[0][1] not in ['JJ', 'NN'] and tag[1][1] not in ['JJ','NN']:\n",
    "        return False\n",
    "    if trigram[0] in stop_word_list or trigram[-1] in stop_word_list or trigram[1] in stop_word_list:\n",
    "        return False\n",
    "    if 'n' in trigram or 't' in trigram:\n",
    "         return False\n",
    "    if 'PRON' in trigram:\n",
    "        return False\n",
    "    return True "
   ]
  },
  {
   "cell_type": "code",
   "execution_count": 18,
   "id": "c1ad08ce-497a-4658-b238-58a489777bef",
   "metadata": {},
   "outputs": [
    {
     "name": "stderr",
     "output_type": "stream",
     "text": [
      "[nltk_data] Downloading package averaged_perceptron_tagger to\n",
      "[nltk_data]     C:\\Users\\kusli\\AppData\\Roaming\\nltk_data...\n",
      "[nltk_data]   Package averaged_perceptron_tagger is already up-to-\n",
      "[nltk_data]       date!\n"
     ]
    }
   ],
   "source": [
    "nltk.download('averaged_perceptron_tagger')\n",
    "\n",
    "# Define your list of stopwords\n",
    "custom_stopwords = set([\"project\", \"research\", \"also\", \"within\", \"including\", \"well\", \n",
    "                        \"across\", \"ways\", \"work\", \"study\", \"theme\", \"via\", \n",
    "                        \"one\", \"two\", \"three\", \"ahrc\"])\n",
    "stop_word_list = set(stopwords.words(\"english\"))|custom_stopwords\n",
    "\n",
    "# Can set pmi threshold to whatever makes sense - eyeball through and select threshold where n-grams stop making sense\n",
    "# choose top 500 ngrams in this case ranked by PMI that have noun like structures\n",
    "filtered_bigram = bigram_pmi[bigram_pmi.apply(lambda bigram:\\\n",
    "                                              bigram_filter(bigram['bigram'])\\\n",
    "                                              and bigram.pmi > 5, axis = 1)][:500]\n",
    "\n",
    "filtered_trigram = trigram_pmi[trigram_pmi.apply(lambda trigram: \\\n",
    "                                                 trigram_filter(trigram['trigram'])\\\n",
    "                                                 and trigram.pmi > 5, axis = 1)][:500]\n",
    "\n",
    "\n",
    "bigrams = [' '.join(x) for x in filtered_bigram.bigram.values if len(x[0]) > 2 or len(x[1]) > 2]\n",
    "trigrams = [' '.join(x) for x in filtered_trigram.trigram.values if len(x[0]) > 2 or len(x[1]) > 2 and len(x[2]) > 2]"
   ]
  },
  {
   "cell_type": "code",
   "execution_count": 19,
   "id": "a3cef134-09dc-49a6-93ce-46700e60af08",
   "metadata": {},
   "outputs": [
    {
     "data": {
      "text/plain": [
       "['hong kong',\n",
       " 'yup ik',\n",
       " 'vice versa',\n",
       " 'hip hop',\n",
       " 'asylum seeker',\n",
       " 'net zero',\n",
       " 'anglo saxon',\n",
       " 'round table',\n",
       " 'glastonbury abbey',\n",
       " 'chronic pain',\n",
       " 'mailing list',\n",
       " 'anglo norman',\n",
       " 'artificial intelligence',\n",
       " 'cutting edge',\n",
       " 'farmed animal',\n",
       " 'award winning',\n",
       " 'united kingdom',\n",
       " 'peer reviewed',\n",
       " 'covid pandemic',\n",
       " 'lottery fund',\n",
       " 'ground breaking',\n",
       " 'think tank',\n",
       " 'mobile phone',\n",
       " 'civil servant',\n",
       " 'hate crime',\n",
       " 'old hispanic',\n",
       " 'extreme weather',\n",
       " 'shed light',\n",
       " 'http www',\n",
       " 'acceleration account',\n",
       " 'focal point',\n",
       " 'st stephen',\n",
       " 'soft power',\n",
       " 'east anglia',\n",
       " 'party parliamentary',\n",
       " 'grave good',\n",
       " 'african descent',\n",
       " 'steering committee',\n",
       " 'advisory board',\n",
       " 'cape town',\n",
       " 'lesson learned',\n",
       " 'augmented reality',\n",
       " 'conspiracy theory',\n",
       " 'starting point',\n",
       " 'transitional justice',\n",
       " 'live coding',\n",
       " 'infection control',\n",
       " 'northern ireland',\n",
       " 'latin america',\n",
       " 'south sudan']"
      ]
     },
     "execution_count": 19,
     "metadata": {},
     "output_type": "execute_result"
    }
   ],
   "source": [
    "bigrams[:50]"
   ]
  },
  {
   "cell_type": "code",
   "execution_count": 20,
   "id": "bf3dffc2-1335-42db-b9b4-298a6fda9c41",
   "metadata": {},
   "outputs": [
    {
     "data": {
      "text/plain": [
       "495"
      ]
     },
     "execution_count": 20,
     "metadata": {},
     "output_type": "execute_result"
    }
   ],
   "source": [
    "len(bigrams)"
   ]
  },
  {
   "cell_type": "code",
   "execution_count": 21,
   "id": "a8a30278-0aea-4127-a0f4-c8e8e8299335",
   "metadata": {},
   "outputs": [
    {
     "data": {
      "text/plain": [
       "['twenty first century',\n",
       " 'early career researcher',\n",
       " 'first world war',\n",
       " 'art council england',\n",
       " 'third sector organisation',\n",
       " 'non academic beneficiary',\n",
       " 'connected community programme',\n",
       " 'long term impact',\n",
       " 'non academic audience',\n",
       " 'non academic partner',\n",
       " 'public engagement activity',\n",
       " 'public engagement event']"
      ]
     },
     "execution_count": 21,
     "metadata": {},
     "output_type": "execute_result"
    }
   ],
   "source": [
    "trigrams"
   ]
  },
  {
   "cell_type": "code",
   "execution_count": 22,
   "id": "6ea004ac-88ad-42d2-9ada-67f01bf9da0c",
   "metadata": {},
   "outputs": [],
   "source": [
    "# Concatenate n-grams\n",
    "def replace_ngram(x):\n",
    "    for gram in trigrams:\n",
    "        x = x.replace(gram, '_'.join(gram.split()))\n",
    "    for gram in bigrams:\n",
    "        x = x.replace(gram, '_'.join(gram.split()))\n",
    "    return x"
   ]
  },
  {
   "cell_type": "code",
   "execution_count": 23,
   "id": "5cecd465-dfb3-4e2b-b48f-0f65d23d1821",
   "metadata": {},
   "outputs": [
    {
     "name": "stdout",
     "output_type": "stream",
     "text": [
      "     ProjectReference  StartDate    EndDate  \\\n",
      "0        AH/X000516/1 2022-02-01 2022-12-31   \n",
      "1        AH/N006011/1 2016-03-01 2017-02-28   \n",
      "2        AH/M010813/1 2016-01-01 2019-03-31   \n",
      "3        AH/K007084/1 2014-03-01 2017-12-31   \n",
      "4        AH/L007290/1 2014-01-01 2016-05-30   \n",
      "...               ...        ...        ...   \n",
      "2265     AH/M010589/1 2016-09-30 2017-03-30   \n",
      "2266     AH/P005039/1 2017-01-01 2020-12-31   \n",
      "2267     AH/K005936/1 2014-01-01 2016-07-30   \n",
      "2268     AH/V015761/1 2021-12-01 2023-03-30   \n",
      "2269     AH/N504518/1 2015-12-01 2020-03-30   \n",
      "\n",
      "                                                AllText  \n",
      "0     india event mark the conclusion of the ahrc fu...  \n",
      "1     the action based brain a provocation to philos...  \n",
      "2     imprint a forensic and historical investigatio...  \n",
      "3     structural and typological variation in the di...  \n",
      "4     judging image the making management and consum...  \n",
      "...                                                 ...  \n",
      "2265  digital_technology and human vulnerability tow...  \n",
      "2266  pinter history and legacy the impact of harold...  \n",
      "2267  culture community and connection in the hiv se...  \n",
      "2268  licensing system for d printing in china impac...  \n",
      "2269  ahrc leadership_fellowship connected_community...  \n",
      "\n",
      "[2270 rows x 4 columns]\n"
     ]
    }
   ],
   "source": [
    "dataf.AllText = dataf.AllText.map(lambda x: replace_ngram(x))\n",
    "print(dataf)"
   ]
  },
  {
   "cell_type": "code",
   "execution_count": 24,
   "id": "2e49a378-ca6b-4d19-86ef-eed1f524b2cf",
   "metadata": {},
   "outputs": [
    {
     "name": "stdout",
     "output_type": "stream",
     "text": [
      "0    [india, event, mark, conclusion, funded, pilot...\n",
      "1    [action, based, brain, provocation, philosophy...\n",
      "2    [imprint, forensic, historical, investigation,...\n",
      "3    [structural, typological, variation, dialect, ...\n",
      "4    [judging, image, making, management, consumpti...\n",
      "Name: AllText, dtype: object\n"
     ]
    }
   ],
   "source": [
    "filtered_tokenised_abstracts = dataf.AllText.map(lambda x: [word for word in x.split()\\\n",
    "                                                 if word not in stop_word_list\\\n",
    "                                                              and len(word) > 3])\n",
    "print(filtered_tokenised_abstracts[:5])"
   ]
  },
  {
   "cell_type": "code",
   "execution_count": 25,
   "id": "bfe811d1-b542-4561-9990-1d7b84b91eb8",
   "metadata": {},
   "outputs": [
    {
     "name": "stdout",
     "output_type": "stream",
     "text": [
      "[('community', 8252), ('public', 6216), ('impact', 5645), ('network', 5520), ('cultural', 5322), ('history', 4058), ('heritage', 4026), ('group', 3997), ('practice', 3749), ('benefit', 3716), ('museum', 3692), ('academic', 3622), ('local', 3245), ('workshop', 3067), ('audience', 3033), ('activity', 2978), ('development', 2948), ('experience', 2854), ('digital', 2833), ('social', 2826), ('understanding', 2778), ('event', 2742), ('international', 2713), ('design', 2707), ('policy', 2696), ('engagement', 2673), ('organisation', 2592), ('people', 2558), ('material', 2445), ('creative', 2419), ('culture', 2389), ('partner', 2384), ('national', 2359), ('resource', 2344), ('knowledge', 2331), ('provide', 2324), ('based', 2281), ('future', 2262), ('university', 2149), ('data', 2143), ('approach', 2135), ('medium', 2114), ('support', 2092), ('working', 2086), ('potential', 2085), ('professional', 2064), ('different', 2062), ('context', 2058), ('language', 2049), ('form', 2038), ('value', 2025), ('exhibition', 1974), ('develop', 1971), ('wider', 1957), ('music', 1935), ('opportunity', 1919), ('process', 1915), ('film', 1892), ('collection', 1864), ('researcher', 1848), ('historical', 1810), ('sector', 1756), ('area', 1755), ('archive', 1722), ('life', 1722), ('school', 1720), ('practitioner', 1716), ('collaboration', 1704), ('finding', 1700), ('website', 1699), ('interest', 1652), ('engage', 1652), ('world', 1641), ('focus', 1639), ('role', 1633), ('site', 1631), ('member', 1624), ('team', 1606), ('user', 1602), ('performance', 1590), ('science', 1580), ('issue', 1577), ('participant', 1573), ('part', 1529), ('time', 1527), ('artist', 1523), ('make', 1521), ('question', 1492), ('online', 1483), ('change', 1482), ('programme', 1473), ('include', 1462), ('explore', 1445), ('method', 1438), ('place', 1413), ('used', 1408), ('case', 1404), ('range', 1398), ('need', 1366), ('society', 1365)]\n"
     ]
    }
   ],
   "source": [
    "# Create the frequency distribution\n",
    "fdist = nltk.FreqDist(word for abstract in filtered_tokenised_abstracts for word in abstract)\n",
    "\n",
    "# Get the most common words (top 100)\n",
    "most_common_words = fdist.most_common(100)\n",
    "\n",
    "print(most_common_words)"
   ]
  },
  {
   "cell_type": "code",
   "execution_count": 26,
   "id": "b6a12bcf-8732-4ab8-922d-c0e5e972bbb5",
   "metadata": {},
   "outputs": [
    {
     "data": {
      "image/png": "[encoded data removed]",
      "text/plain": [
       "<Figure size 1200x600 with 1 Axes>"
      ]
     },
     "metadata": {},
     "output_type": "display_data"
    },
    {
     "data": {
      "text/plain": [
       "<Axes: xlabel='Samples', ylabel='Counts'>"
      ]
     },
     "execution_count": 26,
     "metadata": {},
     "output_type": "execute_result"
    }
   ],
   "source": [
    "plt.figure(figsize=(12,6))\n",
    "fdist.plot(70)"
   ]
  },
  {
   "cell_type": "code",
   "execution_count": 27,
   "id": "7589e221-96e1-4229-a12a-62b939c6e33f",
   "metadata": {},
   "outputs": [],
   "source": [
    "# export filtered_tokenized_abstracts\n",
    "import pickle\n",
    "\n",
    "with open('filtered_tokenised_abstracts.pkl', 'wb') as file:\n",
    "    pickle.dump(filtered_tokenised_abstracts, file)\n",
    "\n",
    "\n"
   ]
  },
  {
   "cell_type": "code",
   "execution_count": null,
   "id": "edcf1de3-a1db-48be-b42a-67459eaadbf4",
   "metadata": {},
   "outputs": [],
   "source": [
    "filtered_tokenised_abstracts.to_csv(\"filtered_tokenised_abstracts.csv\", index=False, header = False)"
   ]
  },
  {
   "cell_type": "code",
   "execution_count": 36,
   "id": "de972a49-9c82-4563-a57d-bc5a838d0484",
   "metadata": {},
   "outputs": [
    {
     "name": "stdout",
     "output_type": "stream",
     "text": [
      "Topic 1:\n",
      "[('community', 0.008235908), ('network', 0.0067294263), ('public', 0.0064286743), ('new', 0.0058774045), ('impact', 0.005708682), ('benefit', 0.004602112), ('museum', 0.004433014), ('art', 0.0043433113), ('practice', 0.004225583), ('cultural', 0.0040918), ('history', 0.004021884), ('use', 0.0039992942), ('social', 0.003988809), ('understanding', 0.0037434548), ('people', 0.0035155104), ('heritage', 0.0034203103), ('academic', 0.003348539), ('digital', 0.0031965335), ('local', 0.0031803504), ('knowledge', 0.0031474922)]\n",
      "\n",
      "Topic 2:\n",
      "[('network', 0.0064717205), ('community', 0.006197538), ('new', 0.0054890136), ('impact', 0.004650606), ('history', 0.0046481923), ('cultural', 0.0045172996), ('benefit', 0.004180861), ('heritage', 0.004137332), ('social', 0.0039983457), ('knowledge', 0.003914272), ('practice', 0.0037994368), ('public', 0.003723188), ('museum', 0.003692059), ('art', 0.0036486054), ('event', 0.003611979), ('activity', 0.0035226776), ('international', 0.0032882204), ('academic', 0.0032661427), ('people', 0.0032626532), ('partner', 0.0030934534)]\n",
      "\n",
      "Topic 3:\n",
      "[('community', 0.008550491), ('cultural', 0.0068559004), ('public', 0.0066216313), ('impact', 0.005641809), ('new', 0.005255349), ('practice', 0.0046451963), ('heritage', 0.0045695626), ('network', 0.004491208), ('museum', 0.004313187), ('group', 0.0043105856), ('benefit', 0.0041968254), ('social', 0.0037241657), ('academic', 0.003696163), ('history', 0.0036684861), ('art', 0.0035851137), ('activity', 0.003532664), ('knowledge', 0.0032999902), ('policy', 0.0032265328), ('local', 0.0031870804), ('understanding', 0.0031287738)]\n",
      "\n",
      "Topic 4:\n",
      "[('public', 0.009014679), ('community', 0.008140609), ('impact', 0.007718074), ('cultural', 0.007344665), ('new', 0.006655052), ('network', 0.0051551126), ('history', 0.0043194713), ('group', 0.0041233944), ('engagement', 0.0038928834), ('heritage', 0.0037911662), ('workshop', 0.0036904858), ('national', 0.0036476145), ('practice', 0.0036204595), ('activity', 0.0035280425), ('digital', 0.0035199074), ('museum', 0.0032397367), ('local', 0.003236224), ('academic', 0.0032331825), ('art', 0.0031712628), ('people', 0.0030966748)]\n",
      "\n",
      "Topic 5:\n",
      "[('impact', 0.007620754), ('community', 0.006511647), ('public', 0.0062736603), ('network', 0.005833114), ('new', 0.0055714645), ('history', 0.004802001), ('people', 0.0045093703), ('heritage', 0.004356514), ('creative', 0.004292288), ('cultural', 0.004061053), ('art', 0.00402579), ('benefit', 0.003886525), ('activity', 0.0038358967), ('social', 0.0037905055), ('organisation', 0.003573915), ('audience', 0.003570549), ('academic', 0.0035548399), ('national', 0.003380175), ('knowledge', 0.0033472828), ('museum', 0.003333354)]\n",
      "\n",
      "Topic 6:\n",
      "[('community', 0.00803206), ('network', 0.007164792), ('public', 0.005939256), ('cultural', 0.0059106634), ('new', 0.0053020245), ('heritage', 0.0046201376), ('local', 0.004060488), ('impact', 0.0038854561), ('art', 0.0038852165), ('group', 0.0037672932), ('history', 0.0036950416), ('activity', 0.0036448261), ('academic', 0.0036131104), ('social', 0.003420376), ('data', 0.003383597), ('museum', 0.003368866), ('national', 0.00333187), ('digital', 0.0033283639), ('resource', 0.0030321924), ('practice', 0.002819306)]\n",
      "\n",
      "Topic 7:\n",
      "[('community', 0.008961), ('public', 0.006887808), ('new', 0.006262034), ('history', 0.005190262), ('network', 0.0051512313), ('art', 0.0049578324), ('people', 0.004482034), ('impact', 0.0044566696), ('social', 0.0042161588), ('cultural', 0.004209257), ('practice', 0.004083725), ('group', 0.0037134788), ('creative', 0.0036040081), ('benefit', 0.0035664318), ('event', 0.003356777), ('museum', 0.0033184157), ('local', 0.0033035558), ('aim', 0.0032016803), ('digital', 0.0031706768), ('collection', 0.0031383806)]\n",
      "\n",
      "Topic 8:\n",
      "[('community', 0.009301612), ('network', 0.007817085), ('public', 0.006437333), ('new', 0.0056457226), ('cultural', 0.0046839807), ('group', 0.0044986294), ('impact', 0.004463474), ('benefit', 0.0042309286), ('practice', 0.0040386333), ('heritage', 0.003965424), ('art', 0.003963787), ('history', 0.003853983), ('engagement', 0.0037859408), ('organisation', 0.0035706812), ('knowledge', 0.0035669468), ('event', 0.00355859), ('creative', 0.0035439164), ('museum', 0.0035186643), ('understanding', 0.0033945267), ('policy', 0.0033206933)]\n",
      "\n",
      "Topic 9:\n",
      "[('community', 0.010690956), ('public', 0.007720054), ('new', 0.005666548), ('practice', 0.0050529838), ('museum', 0.0049192673), ('network', 0.0049117976), ('history', 0.004275223), ('art', 0.004055989), ('knowledge', 0.003934164), ('local', 0.003871915), ('impact', 0.003797227), ('policy', 0.003714711), ('workshop', 0.0035388772), ('heritage', 0.0034996683), ('group', 0.003435604), ('people', 0.0034163813), ('event', 0.0033011427), ('social', 0.0031569975), ('benefit', 0.0031184906), ('organisation', 0.003097022)]\n",
      "\n",
      "Topic 10:\n",
      "[('public', 0.01000768), ('new', 0.0065021184), ('community', 0.005455778), ('network', 0.005219919), ('cultural', 0.0051510883), ('group', 0.0048018387), ('art', 0.00449842), ('impact', 0.00434697), ('practice', 0.004061443), ('policy', 0.004027255), ('people', 0.003863659), ('academic', 0.0037268917), ('museum', 0.0035697098), ('knowledge', 0.003303343), ('social', 0.0031923484), ('development', 0.0031845244), ('local', 0.0030427305), ('experience', 0.0029763498), ('audience', 0.0029525182), ('activity', 0.0029409484)]\n",
      "\n",
      "Topic 11:\n",
      "[('impact', 0.008349401), ('public', 0.007613093), ('new', 0.006649894), ('community', 0.0060559763), ('museum', 0.0051226416), ('art', 0.004957945), ('network', 0.0047846655), ('history', 0.0046561616), ('social', 0.004388904), ('practice', 0.004051357), ('academic', 0.003975392), ('people', 0.003808499), ('cultural', 0.0036949595), ('policy', 0.0034759163), ('heritage', 0.0034179916), ('group', 0.003351684), ('benefit', 0.0033365588), ('partner', 0.0032973974), ('creative', 0.003097032), ('workshop', 0.0029837019)]\n",
      "\n"
     ]
    }
   ],
   "source": [
    "# Specify the number of topics you want to extract\n",
    "num_topics = 11  # Adjust the number of topics as needed\n",
    "\n",
    "# Initialize LDA model\n",
    "lda_model200 = ldamodel.LdaModel(corpus=dtm, id2word=dictionary, num_topics=num_topics, iterations=10)\n",
    "\n",
    "\n",
    "num_topics = lda_model200.num_topics  # Get the total number of topics in the model\n",
    "\n",
    "# Print all identified topics with their top terms\n",
    "for topic_id in range(num_topics):\n",
    "    print(f\"Topic {topic_id + 1}:\")\n",
    "    print(lda_model200.show_topic(topic_id, topn = 20))\n",
    "    print()"
   ]
  },
  {
   "cell_type": "code",
   "execution_count": 39,
   "id": "814342f0-02d2-4458-9a04-613adf68486a",
   "metadata": {},
   "outputs": [
    {
     "name": "stdout",
     "output_type": "stream",
     "text": [
      "Stored 'lda_model' (LdaModel)\n",
      "Stored 'document_topic_distributions' (list)\n"
     ]
    }
   ],
   "source": [
    "document_topic_distributions = [lda_model.get_document_topics(doc) for doc in dtm]\n",
    "\n",
    "%store lda_model document_topic_distributions"
   ]
  },
  {
   "cell_type": "code",
   "execution_count": 40,
   "id": "63821079-876a-44f8-9d53-ccac4e97697c",
   "metadata": {},
   "outputs": [
    {
     "name": "stdout",
     "output_type": "stream",
     "text": [
      "[[(0, 0.1675586), (2, 0.37512726), (3, 0.02039574), (7, 0.050866134), (10, 0.18793671), (13, 0.1385483), (16, 0.05631412)], [(1, 0.03288611), (7, 0.02698861), (9, 0.15450795), (11, 0.20385246), (12, 0.3610164), (13, 0.12253326), (14, 0.010467111), (15, 0.08628679)], [(4, 0.114132404), (7, 0.21469267), (9, 0.048825342), (10, 0.042117763), (11, 0.037761327), (12, 0.3813874), (13, 0.1600331)], [(0, 0.20140477), (7, 0.14539105), (9, 0.33220926), (10, 0.10754175), (12, 0.06375743), (14, 0.14521489)], [(0, 0.028937504), (1, 0.09306154), (2, 0.03870382), (4, 0.028093359), (9, 0.26827556), (11, 0.10120296), (12, 0.10922136), (13, 0.23178536), (14, 0.055281065), (15, 0.04479822)], [(2, 0.011554974), (3, 0.041872896), (4, 0.114367925), (6, 0.041160922), (8, 0.07789938), (9, 0.4731395), (10, 0.04616908), (11, 0.07123622), (14, 0.0217916), (16, 0.09946449)], [(2, 0.48586452), (10, 0.29171976), (12, 0.047755938), (14, 0.17336272)], [(0, 0.11618384), (2, 0.08854475), (6, 0.06939108), (7, 0.19082403), (9, 0.1615357), (11, 0.10224819), (12, 0.090792246), (14, 0.1631927), (15, 0.016396364)], [(1, 0.10654608), (2, 0.121507384), (5, 0.13062498), (7, 0.10983391), (9, 0.14294691), (12, 0.18231927), (13, 0.12376502), (14, 0.02062842), (16, 0.052231308)], [(3, 0.045926493), (7, 0.016026111), (9, 0.2532096), (10, 0.015065538), (11, 0.052933335), (12, 0.09838841), (13, 0.4933968), (14, 0.024238579)]]\n"
     ]
    }
   ],
   "source": [
    "print(document_topic_distributions[:10])"
   ]
  },
  {
   "cell_type": "code",
   "execution_count": 41,
   "id": "cbd01ddb-370e-48a3-a8db-8887c807f13c",
   "metadata": {},
   "outputs": [
    {
     "name": "stdout",
     "output_type": "stream",
     "text": [
      "2270\n"
     ]
    }
   ],
   "source": [
    "print(len(document_topic_distributions))"
   ]
  },
  {
   "cell_type": "code",
   "execution_count": 44,
   "id": "2037036d-51de-4894-b584-4a5462b1bd2f",
   "metadata": {},
   "outputs": [
    {
     "name": "stdout",
     "output_type": "stream",
     "text": [
      "   Topic 1  Topic 2  Topic 3  Topic 4  Topic 5  Topic 6  Topic 7  Topic 8  \\\n",
      "0     0.17      NaN     0.38      NaN      NaN      NaN      NaN      NaN   \n",
      "1      NaN      NaN      NaN      NaN      NaN      NaN      NaN      NaN   \n",
      "2      NaN      NaN      NaN      NaN     0.11      NaN      NaN     0.21   \n",
      "3     0.20      NaN      NaN      NaN      NaN      NaN      NaN     0.15   \n",
      "4      NaN      NaN      NaN      NaN      NaN      NaN      NaN      NaN   \n",
      "\n",
      "   Topic 9  Topic 10  Topic 11  Topic 12  Topic 13  Topic 14  Topic 15  \\\n",
      "0      NaN       NaN      0.19       NaN       NaN      0.14       NaN   \n",
      "1      NaN      0.15       NaN       0.2      0.36      0.12       NaN   \n",
      "2      NaN       NaN       NaN       NaN      0.38      0.16       NaN   \n",
      "3      NaN      0.33      0.11       NaN       NaN       NaN      0.15   \n",
      "4      NaN      0.27       NaN       0.1      0.11      0.23       NaN   \n",
      "\n",
      "   Topic 16  Topic 17  \n",
      "0       NaN       NaN  \n",
      "1       NaN       NaN  \n",
      "2       NaN       NaN  \n",
      "3       NaN       NaN  \n",
      "4       NaN       NaN  \n"
     ]
    }
   ],
   "source": [
    "df = pd.DataFrame(index=range(len(document_topic_distributions)), columns=range(17))\n",
    "\n",
    "# Iterate through the list of tuples and populate the DataFrame\n",
    "for row_idx, item in enumerate(document_topic_distributions):\n",
    "    for x, y in item:\n",
    "        df.at[row_idx, x] = y\n",
    "        \n",
    "df = pd.DataFrame(df, dtype=float)\n",
    "\n",
    "# Round the values to two decimal places\n",
    "df = df.round(2)\n",
    "\n",
    "df[df < 0.1] = np.nan\n",
    "\n",
    "# Convert column names from strings to integers\n",
    "df.columns = df.columns.astype(int)\n",
    "\n",
    "# Create a mapping from old column names (integers) to new column names\n",
    "column_mapping = {i: f'Topic {i + 1}' for i in range(32)}\n",
    "\n",
    "# Rename the columns using the mapping\n",
    "df = df.rename(columns=column_mapping)\n",
    "\n",
    "print(df[:5])\n",
    "\n"
   ]
  },
  {
   "cell_type": "code",
   "execution_count": 45,
   "id": "15892f5d-1683-4165-8054-5b1f379c9747",
   "metadata": {},
   "outputs": [
    {
     "name": "stdout",
     "output_type": "stream",
     "text": [
      "Topic 1     0.16\n",
      "Topic 2      NaN\n",
      "Topic 3      NaN\n",
      "Topic 4      NaN\n",
      "Topic 5      NaN\n",
      "Topic 6      NaN\n",
      "Topic 7      NaN\n",
      "Topic 8     0.31\n",
      "Topic 9     0.16\n",
      "Topic 10     NaN\n",
      "Topic 11     NaN\n",
      "Topic 12     NaN\n",
      "Topic 13    0.37\n",
      "Topic 14     NaN\n",
      "Topic 15     NaN\n",
      "Topic 16     NaN\n",
      "Topic 17     NaN\n",
      "Name: 1000, dtype: float64\n"
     ]
    }
   ],
   "source": [
    "print(df.iloc[1000])"
   ]
  },
  {
   "cell_type": "code",
   "execution_count": 46,
   "id": "e3e2b9ff-7fc4-4a75-9591-76727f751ff1",
   "metadata": {},
   "outputs": [],
   "source": [
    "master_data = pd.read_excel('master_data.xlsx')"
   ]
  },
  {
   "cell_type": "code",
   "execution_count": 47,
   "id": "b16c8fea-351a-48a7-8325-d761b65e27ca",
   "metadata": {},
   "outputs": [
    {
     "name": "stdout",
     "output_type": "stream",
     "text": [
      "     ProjectReference                                              Title  \\\n",
      "0        AH/X000516/1                                    India 75 Events   \n",
      "1        AH/N006011/1  The action-based brain: a provocation to philo...   \n",
      "2        AH/M010813/1  Imprint. A Forensic and Historical Investigati...   \n",
      "3        AH/K007084/1  Structural and typological variation in the di...   \n",
      "4        AH/L007290/1  Judging images: the making, management and con...   \n",
      "...               ...                                                ...   \n",
      "2265     AH/M010589/1  Digital Technology and Human Vulnerability: To...   \n",
      "2266     AH/P005039/1  Pinter Histories and Legacies: The Impact of H...   \n",
      "2267     AH/K005936/1  Cultures, Communities and Connections in the H...   \n",
      "2268     AH/V015761/1  Licensing System for 3D Printing in China - im...   \n",
      "2269     AH/N504518/1  AHRC Leadership Fellowship Connected Communiti...   \n",
      "\n",
      "      StartDate    EndDate  Status  AwardPounds  \\\n",
      "0    2022-02-01 2022-12-31  Closed        40175   \n",
      "1    2016-03-01 2017-02-28  Closed        30981   \n",
      "2    2016-01-01 2019-03-31  Closed       626679   \n",
      "3    2014-03-01 2017-12-31  Closed       203820   \n",
      "4    2014-01-01 2016-05-30  Closed        35767   \n",
      "...         ...        ...     ...          ...   \n",
      "2265 2016-09-30 2017-03-30  Closed        38784   \n",
      "2266 2017-01-01 2020-12-31  Closed       813326   \n",
      "2267 2014-01-01 2016-07-30  Closed        31476   \n",
      "2268 2021-12-01 2023-03-30  Closed        65774   \n",
      "2269 2015-12-01 2020-03-30  Closed      1175612   \n",
      "\n",
      "                          LeadROName                    Region     PISurname  \\\n",
      "0                    British Library                    London   Ilankuberan   \n",
      "1              University of Reading                South East     Stazicker   \n",
      "2              University of Lincoln             East Midlands        Hoskin   \n",
      "3           University of Manchester                North West        Matras   \n",
      "4     Birkbeck, University of London                    London         Moran   \n",
      "...                              ...                       ...           ...   \n",
      "2265        University of Birmingham             West Midlands         Aaron   \n",
      "2266             University of Leeds  Yorkshire and The Humber  Taylor-Batty   \n",
      "2267                Keele University             West Midlands       Tomkins   \n",
      "2268            University of Exeter                South West       Griffin   \n",
      "2269           University of Bristol                South West         Facer   \n",
      "\n",
      "                PIFirstName  \\\n",
      "0                     Arani   \n",
      "1                     James   \n",
      "2                  Philippa   \n",
      "3                     Yaron   \n",
      "4                    Leslie   \n",
      "...                     ...   \n",
      "2265                Michele   \n",
      "2266                   Mark   \n",
      "2267                Alannah   \n",
      "2268  James Gordon Hamilton   \n",
      "2269                   Keri   \n",
      "\n",
      "                                               abstract  \\\n",
      "0     2022 marks the conclusion of the AHRC-funded p...   \n",
      "1     We often assume that our eyes deliver a detail...   \n",
      "2     Impressions of seal matrices in disks of wax, ...   \n",
      "3     The goal of the project is to provide a descri...   \n",
      "4     This project will examine the relationship bet...   \n",
      "...                                                 ...   \n",
      "2265  Digital film technology, in its seemingly inti...   \n",
      "2266  Harold Pinter (1930-2008) was a writer whose o...   \n",
      "2267  When it first emerged in the early 1980s, HIV/...   \n",
      "2268  This project enables the application to creati...   \n",
      "2269  The Connected Communities Leadership Fellowshi...   \n",
      "\n",
      "                                                 impact  \\\n",
      "0                                                   NaN   \n",
      "1     The most immediate planned impacts of the work...   \n",
      "2     Imprint will benefit professionals with curato...   \n",
      "3     A major non-academic beneficiary of the online...   \n",
      "4     A primary goal is to generate widespread stake...   \n",
      "...                                                 ...   \n",
      "2265  The research will provide a range of benefits,...   \n",
      "2266  Who will benefit from this research? The group...   \n",
      "2267  As detailed in the attached 'Pathways to Impac...   \n",
      "2268                                                NaN   \n",
      "2269  Key routes to impact for the activities of the...   \n",
      "\n",
      "                                                    url  \n",
      "0     https://gtr.ukri.org/projects?ref=AH%2FX000516...  \n",
      "1     https://gtr.ukri.org/projects?ref=AH%2FN006011...  \n",
      "2     https://gtr.ukri.org/projects?ref=AH%2FM010813...  \n",
      "3     https://gtr.ukri.org/projects?ref=AH%2FK007084...  \n",
      "4     https://gtr.ukri.org/projects?ref=AH%2FL007290...  \n",
      "...                                                 ...  \n",
      "2265  https://gtr.ukri.org/projects?ref=AH%2FM010589...  \n",
      "2266  https://gtr.ukri.org/projects?ref=AH%2FP005039...  \n",
      "2267  https://gtr.ukri.org/projects?ref=AH%2FK005936...  \n",
      "2268  https://gtr.ukri.org/projects?ref=AH%2FV015761...  \n",
      "2269  https://gtr.ukri.org/projects?ref=AH%2FN504518...  \n",
      "\n",
      "[2270 rows x 13 columns]\n"
     ]
    }
   ],
   "source": [
    "print(master_data)"
   ]
  },
  {
   "cell_type": "code",
   "execution_count": 48,
   "id": "4ca96bf4-e992-4539-8ab4-6ec554892093",
   "metadata": {},
   "outputs": [],
   "source": [
    "# Add a new column 'row_number' to represent row numbers\n",
    "master_data['row_number'] = master_data.index\n",
    "df['row_number'] = df.index\n",
    "\n",
    "# Merge the DataFrames based on the 'row_number' column\n",
    "master_merged = master_data.merge(df, on ='row_number')\n",
    "\n",
    "# Drop the 'row_number' column if needed\n",
    "master_merged = master_merged.drop(columns=['row_number'])\n",
    "\n"
   ]
  },
  {
   "cell_type": "code",
   "execution_count": 49,
   "id": "23ba1088-e94c-466f-b12e-f50b7f1b6177",
   "metadata": {},
   "outputs": [
    {
     "name": "stdout",
     "output_type": "stream",
     "text": [
      "     ProjectReference                                              Title  \\\n",
      "0        AH/X000516/1                                    India 75 Events   \n",
      "1        AH/N006011/1  The action-based brain: a provocation to philo...   \n",
      "2        AH/M010813/1  Imprint. A Forensic and Historical Investigati...   \n",
      "3        AH/K007084/1  Structural and typological variation in the di...   \n",
      "4        AH/L007290/1  Judging images: the making, management and con...   \n",
      "...               ...                                                ...   \n",
      "2265     AH/M010589/1  Digital Technology and Human Vulnerability: To...   \n",
      "2266     AH/P005039/1  Pinter Histories and Legacies: The Impact of H...   \n",
      "2267     AH/K005936/1  Cultures, Communities and Connections in the H...   \n",
      "2268     AH/V015761/1  Licensing System for 3D Printing in China - im...   \n",
      "2269     AH/N504518/1  AHRC Leadership Fellowship Connected Communiti...   \n",
      "\n",
      "      StartDate    EndDate  Status  AwardPounds  \\\n",
      "0    2022-02-01 2022-12-31  Closed        40175   \n",
      "1    2016-03-01 2017-02-28  Closed        30981   \n",
      "2    2016-01-01 2019-03-31  Closed       626679   \n",
      "3    2014-03-01 2017-12-31  Closed       203820   \n",
      "4    2014-01-01 2016-05-30  Closed        35767   \n",
      "...         ...        ...     ...          ...   \n",
      "2265 2016-09-30 2017-03-30  Closed        38784   \n",
      "2266 2017-01-01 2020-12-31  Closed       813326   \n",
      "2267 2014-01-01 2016-07-30  Closed        31476   \n",
      "2268 2021-12-01 2023-03-30  Closed        65774   \n",
      "2269 2015-12-01 2020-03-30  Closed      1175612   \n",
      "\n",
      "                          LeadROName                    Region     PISurname  \\\n",
      "0                    British Library                    London   Ilankuberan   \n",
      "1              University of Reading                South East     Stazicker   \n",
      "2              University of Lincoln             East Midlands        Hoskin   \n",
      "3           University of Manchester                North West        Matras   \n",
      "4     Birkbeck, University of London                    London         Moran   \n",
      "...                              ...                       ...           ...   \n",
      "2265        University of Birmingham             West Midlands         Aaron   \n",
      "2266             University of Leeds  Yorkshire and The Humber  Taylor-Batty   \n",
      "2267                Keele University             West Midlands       Tomkins   \n",
      "2268            University of Exeter                South West       Griffin   \n",
      "2269           University of Bristol                South West         Facer   \n",
      "\n",
      "                PIFirstName  ... Topic 8 Topic 9 Topic 10  Topic 11  Topic 12  \\\n",
      "0                     Arani  ...     NaN     NaN      NaN      0.19       NaN   \n",
      "1                     James  ...     NaN     NaN     0.15       NaN       0.2   \n",
      "2                  Philippa  ...    0.21     NaN      NaN       NaN       NaN   \n",
      "3                     Yaron  ...    0.15     NaN     0.33      0.11       NaN   \n",
      "4                    Leslie  ...     NaN     NaN     0.27       NaN       0.1   \n",
      "...                     ...  ...     ...     ...      ...       ...       ...   \n",
      "2265                Michele  ...     NaN     NaN     0.30       NaN       NaN   \n",
      "2266                   Mark  ...    0.27     NaN     0.10       NaN       NaN   \n",
      "2267                Alannah  ...     NaN     NaN     0.45       NaN       NaN   \n",
      "2268  James Gordon Hamilton  ...     NaN    0.11      NaN       NaN       NaN   \n",
      "2269                   Keri  ...     NaN    0.20     0.52      0.12       NaN   \n",
      "\n",
      "      Topic 13  Topic 14  Topic 15  Topic 16  Topic 17  \n",
      "0          NaN      0.14       NaN       NaN       NaN  \n",
      "1         0.36      0.12       NaN       NaN       NaN  \n",
      "2         0.38      0.16       NaN       NaN       NaN  \n",
      "3          NaN       NaN      0.15       NaN       NaN  \n",
      "4         0.11      0.23       NaN       NaN       NaN  \n",
      "...        ...       ...       ...       ...       ...  \n",
      "2265       NaN      0.13       NaN       NaN       NaN  \n",
      "2266       NaN       NaN       NaN       NaN       NaN  \n",
      "2267       NaN       NaN       NaN       NaN       NaN  \n",
      "2268      0.66       NaN       NaN       NaN       NaN  \n",
      "2269       NaN       NaN       NaN       NaN       NaN  \n",
      "\n",
      "[2270 rows x 30 columns]\n"
     ]
    }
   ],
   "source": [
    "print(master_merged)"
   ]
  },
  {
   "cell_type": "code",
   "execution_count": 50,
   "id": "a970a0d1-8244-4406-8518-0e3b231c5a56",
   "metadata": {},
   "outputs": [
    {
     "name": "stdout",
     "output_type": "stream",
     "text": [
      "     ProjectReference                                              Title  \\\n",
      "0        AH/X000516/1                                    India 75 Events   \n",
      "1        AH/N006011/1  The action-based brain: a provocation to philo...   \n",
      "2        AH/M010813/1  Imprint. A Forensic and Historical Investigati...   \n",
      "3        AH/K007084/1  Structural and typological variation in the di...   \n",
      "4        AH/L007290/1  Judging images: the making, management and con...   \n",
      "...               ...                                                ...   \n",
      "2265     AH/M010589/1  Digital Technology and Human Vulnerability: To...   \n",
      "2266     AH/P005039/1  Pinter Histories and Legacies: The Impact of H...   \n",
      "2267     AH/K005936/1  Cultures, Communities and Connections in the H...   \n",
      "2268     AH/V015761/1  Licensing System for 3D Printing in China - im...   \n",
      "2269     AH/N504518/1  AHRC Leadership Fellowship Connected Communiti...   \n",
      "\n",
      "      StartDate    EndDate  AwardPounds  \\\n",
      "0    2022-02-01 2022-12-31        40175   \n",
      "1    2016-03-01 2017-02-28        30981   \n",
      "2    2016-01-01 2019-03-31       626679   \n",
      "3    2014-03-01 2017-12-31       203820   \n",
      "4    2014-01-01 2016-05-30        35767   \n",
      "...         ...        ...          ...   \n",
      "2265 2016-09-30 2017-03-30        38784   \n",
      "2266 2017-01-01 2020-12-31       813326   \n",
      "2267 2014-01-01 2016-07-30        31476   \n",
      "2268 2021-12-01 2023-03-30        65774   \n",
      "2269 2015-12-01 2020-03-30      1175612   \n",
      "\n",
      "                                               abstract  \\\n",
      "0     2022 marks the conclusion of the AHRC-funded p...   \n",
      "1     We often assume that our eyes deliver a detail...   \n",
      "2     Impressions of seal matrices in disks of wax, ...   \n",
      "3     The goal of the project is to provide a descri...   \n",
      "4     This project will examine the relationship bet...   \n",
      "...                                                 ...   \n",
      "2265  Digital film technology, in its seemingly inti...   \n",
      "2266  Harold Pinter (1930-2008) was a writer whose o...   \n",
      "2267  When it first emerged in the early 1980s, HIV/...   \n",
      "2268  This project enables the application to creati...   \n",
      "2269  The Connected Communities Leadership Fellowshi...   \n",
      "\n",
      "                                                 impact  Topic 1  Topic 2  \\\n",
      "0                                                   NaN     0.17      NaN   \n",
      "1     The most immediate planned impacts of the work...      NaN      NaN   \n",
      "2     Imprint will benefit professionals with curato...      NaN      NaN   \n",
      "3     A major non-academic beneficiary of the online...     0.20      NaN   \n",
      "4     A primary goal is to generate widespread stake...      NaN      NaN   \n",
      "...                                                 ...      ...      ...   \n",
      "2265  The research will provide a range of benefits,...     0.10      NaN   \n",
      "2266  Who will benefit from this research? The group...      NaN     0.27   \n",
      "2267  As detailed in the attached 'Pathways to Impac...     0.26      NaN   \n",
      "2268                                                NaN      NaN      NaN   \n",
      "2269  Key routes to impact for the activities of the...      NaN      NaN   \n",
      "\n",
      "      Topic 3  ...  Topic 8  Topic 9  Topic 10  Topic 11  Topic 12  Topic 13  \\\n",
      "0        0.38  ...      NaN      NaN       NaN      0.19       NaN       NaN   \n",
      "1         NaN  ...      NaN      NaN      0.15       NaN       0.2      0.36   \n",
      "2         NaN  ...     0.21      NaN       NaN       NaN       NaN      0.38   \n",
      "3         NaN  ...     0.15      NaN      0.33      0.11       NaN       NaN   \n",
      "4         NaN  ...      NaN      NaN      0.27       NaN       0.1      0.11   \n",
      "...       ...  ...      ...      ...       ...       ...       ...       ...   \n",
      "2265      NaN  ...      NaN      NaN      0.30       NaN       NaN       NaN   \n",
      "2266      NaN  ...     0.27      NaN      0.10       NaN       NaN       NaN   \n",
      "2267      NaN  ...      NaN      NaN      0.45       NaN       NaN       NaN   \n",
      "2268      NaN  ...      NaN     0.11       NaN       NaN       NaN      0.66   \n",
      "2269      NaN  ...      NaN     0.20      0.52      0.12       NaN       NaN   \n",
      "\n",
      "      Topic 14  Topic 15  Topic 16  Topic 17  \n",
      "0         0.14       NaN       NaN       NaN  \n",
      "1         0.12       NaN       NaN       NaN  \n",
      "2         0.16       NaN       NaN       NaN  \n",
      "3          NaN      0.15       NaN       NaN  \n",
      "4         0.23       NaN       NaN       NaN  \n",
      "...        ...       ...       ...       ...  \n",
      "2265      0.13       NaN       NaN       NaN  \n",
      "2266       NaN       NaN       NaN       NaN  \n",
      "2267       NaN       NaN       NaN       NaN  \n",
      "2268       NaN       NaN       NaN       NaN  \n",
      "2269       NaN       NaN       NaN       NaN  \n",
      "\n",
      "[2270 rows x 24 columns]\n"
     ]
    }
   ],
   "source": [
    "working_data = master_merged.drop(columns=['Status','PIFirstName', \"LeadROName\", \"PISurname\",\"Region\", \"url\"])\n",
    "print(working_data)"
   ]
  },
  {
   "cell_type": "code",
   "execution_count": 51,
   "id": "6a9697cf-f5af-476b-936e-50661d7bce91",
   "metadata": {},
   "outputs": [],
   "source": [
    "master_merged.to_csv('master_data_with_topic_frequencies.csv', index=False)\n",
    "\n",
    "working_data.to_csv('simplified_working_data.csv', index = False)\n"
   ]
  },
  {
   "cell_type": "code",
   "execution_count": null,
   "id": "2ddbecc0-2855-4ca8-9ac8-c78b5755f680",
   "metadata": {},
   "outputs": [],
   "source": []
  }
 ],
 "metadata": {
  "kernelspec": {
   "display_name": "Python 3 (ipykernel)",
   "language": "python",
   "name": "python3"
  },
  "language_info": {
   "codemirror_mode": {
    "name": "ipython",
    "version": 3
   },
   "file_extension": ".py",
   "mimetype": "text/x-python",
   "name": "python",
   "nbconvert_exporter": "python",
   "pygments_lexer": "ipython3",
   "version": "3.11.5"
  }
 },
 "nbformat": 4,
 "nbformat_minor": 5
}
