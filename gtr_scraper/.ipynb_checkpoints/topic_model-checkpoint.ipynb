{
 "cells": [
  {
   "cell_type": "code",
   "execution_count": 1,
   "id": "2701137e-04e9-4126-b463-3bd96be86d83",
   "metadata": {},
   "outputs": [],
   "source": [
    "import pandas as pd\n",
    "\n",
    "from gensim.corpora import Dictionary\n",
    "from gensim.models import ldamodel\n",
    "from gensim.models.coherencemodel import CoherenceModel\n",
    "from wordcloud import WordCloud\n",
    "\n",
    "from PIL  import Image\n",
    "import numpy as np\n",
    "import random\n",
    "import re\n",
    "import matplotlib.pyplot as plt"
   ]
  },
  {
   "cell_type": "code",
   "execution_count": 9,
   "id": "924735ac-c183-4c7b-8836-4452721ea2d2",
   "metadata": {},
   "outputs": [
    {
     "name": "stdout",
     "output_type": "stream",
     "text": [
      "[['india', 'event', 'mark', 'conclusion', 'ahrcfunded', 'pilot', 'century', 'indian', 'print', 'cip', 'anniversary', 'indian', 'independence', 'important', 'national', 'event', 'south', 'asia', 'propose', 'showcase', 'cips', 'cataloguing', 'digitisation', 'output', 'celebrate', 'india', 'print', 'film', 'literary', 'history', 'dedicated', 'event', 'programme', 'aim', 'maximise', 'programme', 'demonstrate', 'role', 'documenting', 'collection', 'making', 'available', 'engaging', 'user', 'diversifying', 'british', 'library', 'audience', 'cip', 'largely', 'focused', 'east', 'india', 'east', 'indian', 'language', 'bengali', 'assamese', 'sylheti', 'result', 'cip', 'event', 'october', 'bangladesh', 'british', 'library', 'often', 'oriented', 'towards', 'british', 'bangladeshi', 'visitor', 'arranging', 'event', 'aimed', 'multiple', 'british', 'south', 'asian', 'proposed', 'india', 'event', 'able', 'sustain', 'existing', 'relationship', 'british', 'bangladeshi', 'form', 'connection', 'british', 'asian', 'therefore', 'programme', 'event', 'wide', 'appeal', 'general', 'academic', 'audience', 'multiple', 'british', 'south', 'asian', 'celebrating', 'region', 'diversity', 'language', 'culture', 'proposed', 'event', 'include', 'show', 'tell', 'workshop', 'seminar', 'film', 'screening', 'interested', 'audience', 'india', 'event', 'would', 'contribute', 'laying', 'foundation', 'wider', 'plan', 'developed', 'seek', 'broaden', 'regional', 'linguistic', 'focus', 'future', 'south', 'asian', 'collection', 'conservation', 'digitisation', 'programme', 'event', 'benefit', 'british', 'asian', 'group', 'nonacademic', 'audience', 'become', 'familiar', 'library', 'south', 'asia', 'holding', 'feel', 'confident', 'accessing', 'collection', 'item', 'interest', 'example', 'particular', 'regional', 'heritage', 'library', 'turn', 'foster', 'stronger', 'relationship', 'proactively', 'engaging', 'south', 'asian', 'london', 'beyond'], ['actionbased', 'brain', 'provocation', 'philosophy', 'robotics', 'cognitive', 'science', 'often', 'assume', 'eye', 'deliver', 'detailed', 'image', 'world', 'around', 'mistake', 'instead', 'soon', 'want', 'know', 'detail', 'part', 'scene', 'eye', 'flick', 'towards', 'detail', 'revealed', 'example', 'perception', 'depends', 'world', 'motor', 'system', 'internal', 'representation', 'enables', 'world', 'act', 'store', 'information', 'always', 'retrievable', 'required', 'philosophical', 'theory', 'embodied', 'cognition', 'emphasise', 'link', 'mind', 'motor', 'system', 'analysis', 'lack', 'however', 'firm', 'neural', 'computational', 'grounding', 'specifying', 'proposed', 'implementation', 'looking', 'detail', 'specific', 'version', 'embodiment', 'arisen', 'neuroscience', 'exposing', 'critical', 'tool', 'philosopher', 'aim', 'ass', 'scope', 'limit', 'particular', 'proposal', 'draw', 'broader', 'lesson', 'neuroscience', 'robotics', 'philosophy', 'ought', 'interact', 'respect', 'general', 'question', 'nature', 'cognition', 'inherently', 'multidisciplinary', 'based', 'involvement', 'mathematician', 'engineer', 'roboticists', 'psychologist', 'neuroscientist', 'philosopher', 'different', 'complementary', 'input', 'based', 'philosophy', 'reading', 'led', 'philosopher', 'already', 'includes', 'key', 'international', 'expert', 'philosophy', 'mind', 'embodied', 'cognition', 'international', 'expert', 'neuroscience', 'robotics', 'agreed', 'take', 'part', 'discussion', 'extend', 'group', 'progressively', 'interaction', 'member', 'take', 'place', 'discussion', 'wiki', 'page', 'set', 'page', 'introduced', 'debate', 'develops', 'joint', 'video', 'conference', 'meeting', 'focused', 'specific', 'contentious', 'area', 'iii', 'day', 'conference', 'towards', 'end', 'month', 'period', 'involving', 'international', 'expert', 'neuroscience', 'philosophy', 'mind', 'cognitive', 'robotics', 'disseminate', 'result', 'primarily', 'brain', 'behavioral', 'science', 'article', 'forum', 'high', 'philosophical', 'neuroscience', 'publish', 'specialist', 'article', 'journal', 'neuroscience', 'engineering', 'philosophy', 'end', 'year', 'develop', 'publicfacing', 'portal', 'wiki', 'encourage', 'engagement', 'broader', 'audience', 'outside', 'academia', 'point', 'use', 'facility', 'researchgate', 'reach', 'wider', 'group', 'social', 'medium', 'twitter', 'advertise', 'discussion', 'beyond', 'academic', 'immediate', 'planned', 'applied', 'field', 'robotics', 'guidance', 'autonomous', 'vehicle', 'currently', 'predominant', 'type', 'representation', 'based', 'worldcentred', 'frame', 'good', 'reason', 'believe', 'explicit', 'reconstruction', 'rather', 'different', 'way', 'human', 'animal', 'represent', 'environment', 'robotics', 'strong', 'interest', 'developing', 'workable', 'alternative', 'example', 'collaborate', 'paul', 'newman', 'head', 'mobile', 'robotics', 'group', 'oxford', 'keen', 'interest', 'mrg', 'developing', 'novel', 'viewbased', 'approach', 'navigation', 'mapping', 'kind', 'investigate', 'pathway', 'document', 'expands', 'pathway', 'influence', 'development', 'type', 'representation', 'computer', 'vision', 'may', 'medium', 'term', 'collaborate', 'microsoft', 'interested', 'object', 'representation', 'scene', 'representation', 'using', 'imagebased', 'technique', 'avoid', 'reconstruction', 'development', 'type', 'approach', 'likely', 'informed', 'biological', 'model', 'human', 'experiment', 'sort', 'central', 'topic', 'discussed', 'proposal', 'brainfunction', 'discus', 'partly', 'inspired', 'problem', 'development', 'computer', 'vision', 'topic', 'theoretical', 'practical', 'development', 'provide', 'crucial', 'feedback', 'another', 'pathway', 'document', 'provides', 'detail', 'way', 'link', 'industry', 'developed', 'course', 'long', 'term', 'consequence', 'discovering', 'coherent', 'description', 'brain', 'function', 'perception', 'action', 'thought', 'far', 'reaching', 'profound', 'many', 'area', 'health', 'education', 'industry', 'contribute', 'wider', 'long', 'term', 'goal'], ['imprint', 'forensic', 'historical', 'investigation', 'fingerprint', 'medieval', 'seal', 'impression', 'seal', 'matrix', 'disk', 'wax', 'deliberately', 'preserved', 'parent', 'document', 'part', 'legal', 'administrative', 'process', 'authentication', 'survive', 'great', 'number', 'british', 'archive', 'since', 'later', 'thirteenth', 'century', 'seal', 'came', 'used', 'almost', 'level', 'society', 'imagery', 'wording', 'seal', 'along', 'sealing', 'practice', 'technique', 'offer', 'great', 'potential', 'historical', 'last', 'year', 'particular', 'consequence', 'ahrcfunded', 'seal', 'medieval', 'wale', 'simew', 'british', 'academy', 'seal', 'local', 'context', 'silc', 'potential', 'increasingly', 'realised', 'importantly', 'back', 'wax', 'seal', 'impression', 'found', 'often', 'retains', 'image', 'unique', 'hand', 'print', 'finger', 'thumb', 'palm', 'although', 'sometimes', 'commented', 'upon', 'neglected', 'source', 'information', 'however', 'provide', 'direct', 'evidence', 'involved', 'act', 'sealing', 'whose', 'print', 'imprint', 'offer', 'genuine', 'mutually', 'beneficial', 'collaboration', 'history', 'forensic', 'science', 'use', 'range', 'method', 'hand', 'mark', 'identification', 'cuttingedge', 'practice', 'digital', 'imaging', 'analysis', 'mark', 'using', 'manual', 'automated', 'fingerprint', 'identification', 'system', 'technique', 'image', 'medieval', 'seal', 'still', 'associated', 'parent', 'document', 'taken', 'specification', 'satisfy', 'need', 'historical', 'forensic', 'analysis', 'historical', 'perspective', 'result', 'enable', 'innovative', 'investigation', 'practice', 'sealing', 'documentary', 'context', 'allow', 'team', 'consider', 'identification', 'print', 'tell', 'sealing', 'practice', 'may', 'evolved', 'concurrently', 'administrative', 'legal', 'practice', 'generally', 'shed', 'light', 'social', 'ritual', 'associated', 'exchange', 'bureaucracy', 'protocol', 'authentication', 'security', 'medieval', 'england', 'wale', 'forensics', 'side', 'provide', 'data', 'pertinent', 'ongoing', 'area', 'identity', 'science', 'providing', 'significant', 'quantity', 'material', 'period', 'long', 'existing', 'bank', 'fingerprint', 'data', 'contribute', 'discussion', 'uniqueness', 'fingerprint', 'evidential', 'validity', 'timely', 'promoting', 'link', 'humanity', 'forensic', 'science', 'urged', 'government', 'silverman', 'report', 'development', 'forensic', 'science', 'note', 'value', 'interdisciplinary', 'using', 'forensic', 'science', 'create', 'scholarly', 'result', 'natural', 'progression', 'recent', 'simew', 'silc', 'upon', 'whose', 'expertise', 'drawing', 'pilot', 'using', 'seal', 'hereford', 'cathedral', 'archive', 'demonstrated', 'methodology', 'sound', 'recovered', 'usable', 'print', 'material', 'surveyed', 'traditional', 'print', 'recognition', 'technique', 'revealed', 'particular', 'individual', 'recur', 'imprint', 'benefit', 'professional', 'curatorial', 'responsibility', 'medieval', 'document', 'five', 'archive', 'repository', 'directly', 'involved', 'gain', 'digital', 'image', 'sealed', 'instrument', 'associated', 'detailed', 'information', 'seal', 'incorporated', 'host', 'repository', 'catalogue', 'able', 'provide', 'useful', 'information', 'condition', 'collection', 'investigated', 'example', 'identifying', 'item', 'need', 'conservation', 'rehousing', 'finding', 'may', 'provide', 'valuable', 'potentially', 'highprofile', 'insight', 'item', 'collection', 'example', 'match', 'found', 'print', 'supposed', 'anglosaxon', 'charter', 'genuine', 'century', 'document', 'westminster', 'abbey', 'medieval', 'forgery', 'case', 'solved', 'repository', 'substantial', 'medieval', 'collection', 'directly', 'involved', 'able', 'benefit', 'dissemination', 'methodology', 'information', 'material', 'could', 'enhanced', 'example', 'term', 'making', 'medieval', 'document', 'seem', 'remote', 'general', 'audience', 'revealing', 'insight', 'circumstance', 'item', 'created', 'addition', 'coinvestigators', 'currently', 'writing', 'article', 'based', 'upon', 'pilot', 'submission', 'journal', 'archive', 'part', 'imprint', 'would', 'hold', 'workshop', 'specifically', 'aimed', 'archival', 'professional', 'based', 'area', 'near', 'archive', 'using', 'workshop', 'specialist', 'class', 'archive', 'student', 'would', 'provide', 'cuttingedge', 'skill', 'knowledge', 'current', 'curator', 'next', 'generation', 'caring', 'sealed', 'document', 'broadly', 'website', 'working', 'alongside', 'partner', 'repository', 'produce', 'online', 'exhibition', 'workshop', 'allow', 'general', 'vivid', 'insight', 'medieval', 'life', 'investigation', 'tangible', 'object', 'demonstrating', 'synergy', 'found', 'collaboration', 'humanity', 'science', 'envisage', 'would', 'therefore', 'widespread', 'medium', 'appeal', 'addition', 'documentary', 'team', 'already', 'informal', 'talk', 'bbc', 'university', 'lincoln', 'director', 'engagement', 'team', 'write', 'article', 'consideration', 'popular', 'history', 'publication', 'target', 'publication', 'bbc', 'history', 'magazine', 'history', 'today', 'archaeology', 'today', 'scientific', 'perspective', 'imprint', 'contribute', 'important', 'information', 'current', 'debate', 'forensics', 'allow', 'testing', 'theory', 'concerning', 'identification', 'finger', 'hand', 'print', 'informing', 'number', 'international', 'current', 'home', 'office', 'initiative', 'example', 'data', 'finger', 'palm', 'print', 'wax', 'seal', 'statistical', 'information', 'gleaned', 'concerning', 'uniqueness', 'finger', 'hand', 'mark', 'comparison', 'medieval', 'mark', 'different', 'demographic', 'different', 'time', 'thus', 'present', 'day', 'using', 'existing', 'afis', 'system', 'potentially', 'country', 'previously', 'unknown', 'statistical', 'data', 'derived', 'add', 'evidence', 'concerning', 'uniqueness', 'fingerprint', 'matter', 'international', 'concern', 'forensic', 'world', 'address', 'number', 'recommendation', 'made', 'sir', 'anthony', 'campbell', 'scottish', 'inquiry', 'report', 'misidentification', 'shirley', 'mckie', 'information', 'built', 'data', 'regarding', 'likelihood', 'ratio', 'associated', 'finger', 'palm', 'mark', 'identification', 'advance', 'finger', 'mark', 'identification', 'science', 'imprint', 'forensic', 'adviser', 'present', 'data', 'gathered', 'conference', 'home', 'office', 'workshop', 'training', 'course', 'end', 'print', 'seek', 'publish', 'final', 'conclusion', 'academic', 'journal', 'field', 'forensic', 'science', 'international'], ['structural', 'typological', 'variation', 'dialect', 'kurdish', 'goal', 'provide', 'description', 'major', 'difference', 'dialect', 'kurdish', 'comparative', 'dialect', 'area', 'conducted', 'mackenzie', 'published', 'based', 'eight', 'major', 'location', 'kurdish', 'autonomy', 'northern', 'iraq', 'rise', 'importance', 'communication', 'kurdish', 'iraq', 'lately', 'neighbouring', 'turkey', 'along', 'ongoing', 'intensification', 'kurdish', 'activity', 'northern', 'syria', 'make', 'timely', 'investigation', 'using', 'questionnaire', 'sample', 'free', 'speech', 'interview', 'emigrant', 'kurd', 'england', 'france', 'relying', 'assistance', 'student', 'colleague', 'university', 'mardin', 'turkey', 'soran', 'suleimani', 'iraq', 'kurdish', 'region', 'aim', 'cover', 'major', 'structural', 'variant', 'representing', 'origin', 'location', 'result', 'made', 'freely', 'accessible', 'online', 'database', 'form', 'transcription', 'word', 'phrase', 'sound', 'file', 'map', 'representing', 'location', 'variant', 'tool', 'help', 'raise', 'awareness', 'kurdish', 'may', 'support', 'educational', 'language', 'planning', 'effort', 'draw', 'successful', 'pilot', 'funded', 'small', 'grant', 'british', 'academy', 'data', 'collection', 'method', 'developed', 'tested', 'database', 'prototype', 'developed', 'initial', 'sample', 'collected', 'entered', 'database', 'link', 'establishment', 'kurdishlanguage', 'department', 'university', 'named', 'shall', 'able', 'draw', 'fieldwork', 'pilot', 'established', 'close', 'link', 'immigrant', 'kurdish', 'england', 'france', 'rely', 'much', 'fieldwork', 'initial', 'result', 'pilot', 'visible', 'online', 'february', 'httpkurdishhumanitiesmanchesteracuk', 'led', 'matras', 'specialist', 'kurdish', 'linguistics', 'copi', 'koontzgarboden', 'leading', 'specialist', 'verb', 'semantics', 'verb', 'derivational', 'morphology', 'morphosyntax', 'thus', 'position', 'make', 'major', 'contribution', 'toward', 'application', 'theoreticallinguistic', 'insight', 'kurdish', 'draw', 'kurdish', 'case', 'help', 'illuminate', 'issue', 'interest', 'general', 'linguistic', 'discussion', 'field', 'team', 'cooperate', 'closely', 'salih', 'akin', 'kurdish', 'linguist', 'rouen', 'university', 'france', 'support', 'strategy', 'access', 'kurdish', 'train', 'fieldworker', 'interpret', 'data', 'team', 'received', 'expression', 'support', 'assurance', 'cooperation', 'regard', 'outreach', 'strategy', 'kurdish', 'regional', 'government', 'kurdish', 'institute', 'paris', 'kurdish', 'library', 'stockholm', 'therefore', 'best', 'possible', 'position', 'deliver', 'novel', 'innovative', 'contribution', 'kurdish', 'enrichment', 'linguistictypological', 'discussion', 'example', 'kurdish', 'raising', 'general', 'awareness', 'kurdish', 'language', 'dialect', 'continuum', 'major', 'nonacademic', 'beneficiary', 'online', 'resource', 'develop', 'population', 'kurd', 'residing', 'middle', 'east', 'western', 'europe', 'association', 'among', 'many', 'kurdish', 'especially', 'turkey', 'knowledge', 'kurdish', 'decline', 'due', 'variety', 'social', 'political', 'factor', 'among', 'emigration', 'lack', 'educational', 'resource', 'language', 'database', 'resource', 'website', 'host', 'help', 'raise', 'awareness', 'kurdish', 'language', 'provide', 'practical', 'tool', 'kurd', 'wishing', 'familiarise', 'structure', 'form', 'dialect', 'language', 'construction', 'language', 'general', 'already', 'registered', 'reaction', 'kurdish', 'manchester', 'paris', 'addition', 'prominent', 'kurdish', 'organisation', 'institut', 'kurde', 'paris', 'kurdish', 'library', 'stockholm', 'kurdish', 'regional', 'government', 'representative', 'london', 'paris', 'kurdish', 'language', 'department', 'number', 'university', 'turkey', 'iraq', 'taken', 'direct', 'interest', 'pilot', 'funded', 'british', 'academy', 'potential', 'confirmed', 'experience', 'applicant', 'romani', 'similar', 'resource', 'accessed', 'online', 'people', 'country', 'sixyear', 'period', 'online', 'resource', 'resulting', 'publication', 'geographical', 'variation', 'kurdish', 'assist', 'forensic', 'linguist', 'engaged', 'language', 'analysis', 'determination', 'origin', 'lado', 'database', 'mapping', 'tool', 'provide', 'way', 'verifying', 'mapping', 'linguistic', 'variable', 'onto', 'geographical', 'location', 'thus', 'able', 'support', 'individual', 'case', 'asylum', 'immigration', 'status', 'online', 'resource', 'freely', 'accessible', 'practitioner', 'able', 'make', 'use', 'serve', 'teaching', 'learning', 'tool', 'student', 'linguistics', 'especially', 'kurdish', 'area', 'opportunity', 'provide', 'much', 'needed', 'training', 'kurdish', 'linguistics', 'benefit', 'newly', 'emerging', 'degree', 'course', 'kurdish', 'language', 'iraq', 'turkey', 'extend', 'outreach', 'policymakers', 'following', 'footstep', 'matras', 'report', 'romani', 'council', 'europe', 'language', 'policy', 'division', 'october', 'draft', 'report', 'dialect', 'diversity', 'codification', 'kurdish', 'shared', 'expert', 'committee', 'european', 'charter', 'regional', 'minority', 'language', 'kurdish', 'regional', 'government', 'kurdish', 'association', 'europe', 'kurdish', 'language', 'department', 'middle', 'east'], ['judging', 'image', 'making', 'management', 'consumption', 'judicial', 'image', 'examine', 'relationship', 'judge', 'judgment', 'visual', 'medium', 'judge', 'important', 'figure', 'society', 'epitomizing', 'key', 'value', 'virtue', 'associated', 'good', 'decision', 'making', 'fairness', 'justice', 'legitimate', 'authority', 'medium', 'visual', 'medium', 'particular', 'play', 'crucial', 'role', 'shaping', 'communicating', 'representation', 'judge', 'judging', 'studying', 'content', 'production', 'management', 'consumption', 'provides', 'opportunity', 'examine', 'popular', 'official', 'representation', 'good', 'judgment', 'fairness', 'legitimate', 'authority', 'bring', 'together', 'variety', 'scholar', 'practitioner', 'user', 'open', 'debate', 'image', 'judge', 'judging', 'managed', 'made', 'consumed', 'topic', 'multidimensional', 'element', 'long', 'largely', 'neglected', 'history', 'judicial', 'image', 'making', 'range', 'century', 'funeral', 'monument', 'painted', 'portrait', 'etching', 'photograph', 'recently', 'screen', 'image', 'architecture', 'theatre', 'courtroom', 'central', 'staging', 'performance', 'judicial', 'authority', 'judgment', 'element', 'hour', 'multichannel', 'view', 'demand', 'facility', 'make', 'watching', 'scrutinizing', 'judge', 'judgment', 'intimate', 'enduring', 'ever', 'present', 'possibility', 'comfort', 'home', 'representation', 'fictional', 'domestic', 'imported', 'courtroom', 'drama', 'factual', 'live', 'streaming', 'youtube', 'summary', 'judgment', 'supreme', 'court', 'broadcast', 'sentencing', 'decision', 'currently', 'limited', 'scotland', 'footage', 'real', 'trial', 'mainly', 'others', 'reality', 'judge', 'judge', 'judy', 'judge', 'strictly', 'come', 'dancing', 'blur', 'fact', 'fiction', 'technology', 'mobile', 'phone', 'tablet', 'internet', 'platform', 'create', 'potential', 'producer', 'image', 'citizen', 'journalist', 'enter', 'field', 'way', 'viewing', 'television', 'apparent', 'preoccupation', 'judge', 'judgment', 'potentially', 'creates', 'level', 'legal', 'knowledge', 'confusion', 'expectation', 'realistic', 'unrealistic', 'nature', 'quality', 'good', 'judging', 'initiative', 'improve', 'quality', 'representation', 'redesigning', 'courtroom', 'court', 'communication', 'initiative', 'reform', 'allow', 'camera', 'court', 'debate', 'medias', 'role', 'promoting', 'undermining', 'confidence', 'court', 'subject', 'intense', 'debate', 'time', 'ripe', 'multidisciplinary', 'engagement', 'nature', 'judicial', 'image', 'production', 'management', 'effect', 'particularly', 'capacity', 'enhance', 'openness', 'achieve', 'greater', 'transparency', 'promote', 'accountability', 'aim', 'explore', 'production', 'use', 'image', 'involve', 'themed', 'symposium', 'image', 'making', 'image', 'management', 'image', 'consumption', 'key', 'objective', 'use', 'event', 'build', 'international', 'leading', 'early', 'career', 'academic', 'different', 'discipline', 'law', 'art', 'history', 'semiotics', 'medium', 'communication', 'discus', 'current', 'state', 'knowledge', 'identify', 'methodological', 'innovation', 'future', 'another', 'bring', 'practitioner', 'field', 'judge', 'court', 'communication', 'staff', 'architect', 'artist', 'curator', 'filmmaker', 'jurisdiction', 'organisation', 'practice', 'explore', 'lived', 'experience', 'production', 'consumption', 'seek', 'break', 'away', 'traditional', 'academic', 'paper', 'include', 'site', 'visit', 'active', 'use', 'visual', 'medium', 'enhance', 'symposium', 'key', 'practical', 'benefit', 'include', 'raising', 'stakeholder', 'awareness', 'historical', 'contemporary', 'nature', 'significance', 'visual', 'imagery', 'communication', 'idea', 'judge', 'judging', 'justice', 'contribute', 'citizen', 'awareness', 'education', 'finally', 'seek', 'increase', 'efficiency', 'effectiveness', 'communication', 'relating', 'judiciary', 'confidence', 'judiciary', 'primary', 'goal', 'generate', 'widespread', 'stakeholder', 'discussion', 'relationship', 'justice', 'system', 'visual', 'medium', 'prompt', 'change', 'way', 'stakeholder', 'engage', 'interface', 'pursuit', 'strategy', 'connect', 'five', 'group', 'actor', 'produce', 'image', 'judiciary', 'whose', 'image', 'produced', 'communication', 'manager', 'policy', 'maker', 'general', 'next', 'generation', 'lawyer', 'strategy', 'aim', 'challenge', 'way', 'lawyer', 'artist', 'think', 'utilise', 'legal', 'image', 'anticipated', 'enhance', 'quality', 'debate', 'visual', 'language', 'relate', 'legal', 'subject', 'year', 'start', 'workshop', 'judge', 'commercial', 'visual', 'image', 'maker', 'film', 'video', 'photography', 'artist', 'architect', 'journalist', 'court', 'communication', 'staff', 'feature', 'prominently', 'practitioner', 'central', 'setting', 'agenda', 'planned', 'workshop', 'workshop', 'designed', 'facilitate', 'discussion', 'practitioner', 'academic', 'deliberately', 'seek', 'explore', 'interface', 'various', 'perspective', 'present', 'novel', 'idea', 'representation', 'strategy', 'visual', 'material', 'seminar', 'made', 'available', 'download', 'dedicated', 'website', 'anticipated', 'workshop', 'generate', 'idea', 'way', 'thinking', 'production', 'image', 'judiciary', 'website', 'first', 'enduring', 'output', 'website', 'aimed', 'target', 'audience', 'material', 'workshop', 'podcasts', 'interview', 'participant', 'image', 'film', 'used', 'speaker', 'made', 'accessible', 'site', 'drawing', 'applicant', 'add', 'material', 'designing', 'virtual', 'exhibition', 'image', 'relating', 'variety', 'different', 'contemporary', 'historical', 'representation', 'judiciary', 'visitor', 'site', 'encouraged', 'comment', 'reaction', 'image', 'make', 'suggestion', 'addition', 'post', 'published', 'engagement', 'exhibition', 'material', 'encouraged', 'sort', 'partnership', 'first', 'involve', 'collaboration', 'group', 'least', 'five', 'law', 'school', 'allow', 'applicant', 'engage', 'next', 'generation', 'lawyer', 'second', 'involve', 'partnership', 'small', 'group', 'teacher', 'involved', 'designing', 'delivering', 'citizen', 'programme', 'anticipated', 'site', 'exhibition', 'provide', 'valuable', 'resource', 'teacher', 'student', 'providing', 'resource', 'class', 'might', 'focus', 'issue', 'around', 'legitimacy', 'authority', 'encourage', 'feedback', 'input', 'facebook', 'twitter', 'facility', 'linked', 'website', 'mailing', 'list', 'subject', 'association', 'used', 'publicise', 'feedback', 'monitored', 'feed', 'issue', 'discussed', 'final', 'workshop', 'lecture', 'hoped', 'time', 'resource', 'provided', 'website', 'developed', 'group', 'judicial', 'college', 'lecture', 'important', 'function', 'workshop', 'setting', 'agenda', 'future', 'dialogue', 'policy', 'maker', 'order', 'publicise', 'outcome', 'debate', 'applicant', 'organise', 'lecture', 'held', 'workshop', 'expert', 'panel', 'comprised', 'leading', 'member', 'judiciary', 'press', 'filmmaker', 'policy', 'maker', 'asked', 'lead', 'debate', 'issue', 'emerged', 'course', 'workshop', 'likely', 'capture', 'imagination', 'lse', 'event', 'division', 'considerable', 'experience', 'hosting', 'event', 'aimed', 'audience', 'maximising', 'publicity']]\n"
     ]
    }
   ],
   "source": [
    "import pickle\n",
    "\n",
    "with open('filtered_tokenized_abstracts.pkl', 'rb') as file:\n",
    "    filtered_tokenized_abstracts = pickle.load(file)\n",
    "\n",
    "print(filtered_tokenized_abstracts[:5])"
   ]
  },
  {
   "cell_type": "code",
   "execution_count": 11,
   "id": "e448d31e-440f-4a29-9974-20aedfed8cbb",
   "metadata": {},
   "outputs": [
    {
     "data": {
      "text/plain": [
       "38939"
      ]
     },
     "execution_count": 11,
     "metadata": {},
     "output_type": "execute_result"
    }
   ],
   "source": [
    "dictionary = Dictionary(filtered_tokenized_abstracts)\n",
    "len(dictionary)"
   ]
  },
  {
   "cell_type": "code",
   "execution_count": 18,
   "id": "417278ab-8394-4c93-8216-086e077a7b63",
   "metadata": {},
   "outputs": [],
   "source": [
    "# Create a Document-Term Matrix (DTM) using the dictionary\n",
    "dtm = [dictionary.doc2bow(doc) for doc in filtered_tokenized_abstracts]\n",
    "\n"
   ]
  },
  {
   "cell_type": "code",
   "execution_count": 19,
   "id": "af309e5e-6c35-45ec-a490-91f89a16b262",
   "metadata": {},
   "outputs": [
    {
     "name": "stdout",
     "output_type": "stream",
     "text": [
      "-1.4336631321665174\n",
      "-1.6314613119918482\n",
      "-1.8343368939140203\n",
      "-1.798354485474716\n",
      "-2.8235847359791593\n",
      "-2.4506788102466617\n",
      "-2.2956888166459803\n"
     ]
    },
    {
     "ename": "KeyboardInterrupt",
     "evalue": "",
     "output_type": "error",
     "traceback": [
      "\u001b[1;31m---------------------------------------------------------------------------\u001b[0m",
      "\u001b[1;31mKeyboardInterrupt\u001b[0m                         Traceback (most recent call last)",
      "Cell \u001b[1;32mIn[19], line 10\u001b[0m\n\u001b[0;32m      8\u001b[0m scores \u001b[38;5;241m=\u001b[39m []\n\u001b[0;32m      9\u001b[0m \u001b[38;5;28;01mfor\u001b[39;00m k \u001b[38;5;129;01min\u001b[39;00m k_range:\n\u001b[1;32m---> 10\u001b[0m     lda_model \u001b[38;5;241m=\u001b[39m \u001b[43mldamodel\u001b[49m\u001b[38;5;241;43m.\u001b[39;49m\u001b[43mLdaModel\u001b[49m\u001b[43m(\u001b[49m\u001b[43mtrain_df\u001b[49m\u001b[43m,\u001b[49m\u001b[43m \u001b[49m\u001b[43mnum_topics\u001b[49m\u001b[38;5;241;43m=\u001b[39;49m\u001b[43mk\u001b[49m\u001b[43m,\u001b[49m\u001b[43m \u001b[49m\u001b[43mid2word\u001b[49m\u001b[38;5;241;43m=\u001b[39;49m\u001b[43mdictionary\u001b[49m\u001b[43m,\u001b[49m\u001b[43m \u001b[49m\u001b[43mpasses\u001b[49m\u001b[38;5;241;43m=\u001b[39;49m\u001b[38;5;241;43m20\u001b[39;49m\u001b[43m)\u001b[49m\n\u001b[0;32m     11\u001b[0m     cm \u001b[38;5;241m=\u001b[39m CoherenceModel(model \u001b[38;5;241m=\u001b[39m lda_model, corpus \u001b[38;5;241m=\u001b[39m train_df, dictionary \u001b[38;5;241m=\u001b[39m dictionary, coherence \u001b[38;5;241m=\u001b[39m \u001b[38;5;124m\"\u001b[39m\u001b[38;5;124mu_mass\u001b[39m\u001b[38;5;124m\"\u001b[39m)\n\u001b[0;32m     12\u001b[0m     \u001b[38;5;28mprint\u001b[39m(cm\u001b[38;5;241m.\u001b[39mget_coherence())\n",
      "File \u001b[1;32m~\\AppData\\Local\\Programs\\Python\\Python311\\Lib\\site-packages\\gensim\\models\\ldamodel.py:521\u001b[0m, in \u001b[0;36mLdaModel.__init__\u001b[1;34m(self, corpus, num_topics, id2word, distributed, chunksize, passes, update_every, alpha, eta, decay, offset, eval_every, iterations, gamma_threshold, minimum_probability, random_state, ns_conf, minimum_phi_value, per_word_topics, callbacks, dtype)\u001b[0m\n\u001b[0;32m    519\u001b[0m use_numpy \u001b[38;5;241m=\u001b[39m \u001b[38;5;28mself\u001b[39m\u001b[38;5;241m.\u001b[39mdispatcher \u001b[38;5;129;01mis\u001b[39;00m \u001b[38;5;129;01mnot\u001b[39;00m \u001b[38;5;28;01mNone\u001b[39;00m\n\u001b[0;32m    520\u001b[0m start \u001b[38;5;241m=\u001b[39m time\u001b[38;5;241m.\u001b[39mtime()\n\u001b[1;32m--> 521\u001b[0m \u001b[38;5;28;43mself\u001b[39;49m\u001b[38;5;241;43m.\u001b[39;49m\u001b[43mupdate\u001b[49m\u001b[43m(\u001b[49m\u001b[43mcorpus\u001b[49m\u001b[43m,\u001b[49m\u001b[43m \u001b[49m\u001b[43mchunks_as_numpy\u001b[49m\u001b[38;5;241;43m=\u001b[39;49m\u001b[43muse_numpy\u001b[49m\u001b[43m)\u001b[49m\n\u001b[0;32m    522\u001b[0m \u001b[38;5;28mself\u001b[39m\u001b[38;5;241m.\u001b[39madd_lifecycle_event(\n\u001b[0;32m    523\u001b[0m     \u001b[38;5;124m\"\u001b[39m\u001b[38;5;124mcreated\u001b[39m\u001b[38;5;124m\"\u001b[39m,\n\u001b[0;32m    524\u001b[0m     msg\u001b[38;5;241m=\u001b[39m\u001b[38;5;124mf\u001b[39m\u001b[38;5;124m\"\u001b[39m\u001b[38;5;124mtrained \u001b[39m\u001b[38;5;132;01m{\u001b[39;00m\u001b[38;5;28mself\u001b[39m\u001b[38;5;132;01m}\u001b[39;00m\u001b[38;5;124m in \u001b[39m\u001b[38;5;132;01m{\u001b[39;00mtime\u001b[38;5;241m.\u001b[39mtime()\u001b[38;5;250m \u001b[39m\u001b[38;5;241m-\u001b[39m\u001b[38;5;250m \u001b[39mstart\u001b[38;5;132;01m:\u001b[39;00m\u001b[38;5;124m.2f\u001b[39m\u001b[38;5;132;01m}\u001b[39;00m\u001b[38;5;124ms\u001b[39m\u001b[38;5;124m\"\u001b[39m,\n\u001b[0;32m    525\u001b[0m )\n",
      "File \u001b[1;32m~\\AppData\\Local\\Programs\\Python\\Python311\\Lib\\site-packages\\gensim\\models\\ldamodel.py:1006\u001b[0m, in \u001b[0;36mLdaModel.update\u001b[1;34m(self, corpus, chunksize, decay, offset, passes, update_every, eval_every, iterations, gamma_threshold, chunks_as_numpy)\u001b[0m\n\u001b[0;32m   1001\u001b[0m \u001b[38;5;28;01melse\u001b[39;00m:\n\u001b[0;32m   1002\u001b[0m     logger\u001b[38;5;241m.\u001b[39minfo(\n\u001b[0;32m   1003\u001b[0m         \u001b[38;5;124m\"\u001b[39m\u001b[38;5;124mPROGRESS: pass \u001b[39m\u001b[38;5;132;01m%i\u001b[39;00m\u001b[38;5;124m, at document #\u001b[39m\u001b[38;5;132;01m%i\u001b[39;00m\u001b[38;5;124m/\u001b[39m\u001b[38;5;132;01m%i\u001b[39;00m\u001b[38;5;124m\"\u001b[39m,\n\u001b[0;32m   1004\u001b[0m         pass_, chunk_no \u001b[38;5;241m*\u001b[39m chunksize \u001b[38;5;241m+\u001b[39m \u001b[38;5;28mlen\u001b[39m(chunk), lencorpus\n\u001b[0;32m   1005\u001b[0m     )\n\u001b[1;32m-> 1006\u001b[0m     gammat \u001b[38;5;241m=\u001b[39m \u001b[38;5;28;43mself\u001b[39;49m\u001b[38;5;241;43m.\u001b[39;49m\u001b[43mdo_estep\u001b[49m\u001b[43m(\u001b[49m\u001b[43mchunk\u001b[49m\u001b[43m,\u001b[49m\u001b[43m \u001b[49m\u001b[43mother\u001b[49m\u001b[43m)\u001b[49m\n\u001b[0;32m   1008\u001b[0m     \u001b[38;5;28;01mif\u001b[39;00m \u001b[38;5;28mself\u001b[39m\u001b[38;5;241m.\u001b[39moptimize_alpha:\n\u001b[0;32m   1009\u001b[0m         \u001b[38;5;28mself\u001b[39m\u001b[38;5;241m.\u001b[39mupdate_alpha(gammat, rho())\n",
      "File \u001b[1;32m~\\AppData\\Local\\Programs\\Python\\Python311\\Lib\\site-packages\\gensim\\models\\ldamodel.py:768\u001b[0m, in \u001b[0;36mLdaModel.do_estep\u001b[1;34m(self, chunk, state)\u001b[0m\n\u001b[0;32m    766\u001b[0m \u001b[38;5;28;01mif\u001b[39;00m state \u001b[38;5;129;01mis\u001b[39;00m \u001b[38;5;28;01mNone\u001b[39;00m:\n\u001b[0;32m    767\u001b[0m     state \u001b[38;5;241m=\u001b[39m \u001b[38;5;28mself\u001b[39m\u001b[38;5;241m.\u001b[39mstate\n\u001b[1;32m--> 768\u001b[0m gamma, sstats \u001b[38;5;241m=\u001b[39m \u001b[38;5;28;43mself\u001b[39;49m\u001b[38;5;241;43m.\u001b[39;49m\u001b[43minference\u001b[49m\u001b[43m(\u001b[49m\u001b[43mchunk\u001b[49m\u001b[43m,\u001b[49m\u001b[43m \u001b[49m\u001b[43mcollect_sstats\u001b[49m\u001b[38;5;241;43m=\u001b[39;49m\u001b[38;5;28;43;01mTrue\u001b[39;49;00m\u001b[43m)\u001b[49m\n\u001b[0;32m    769\u001b[0m state\u001b[38;5;241m.\u001b[39msstats \u001b[38;5;241m+\u001b[39m\u001b[38;5;241m=\u001b[39m sstats\n\u001b[0;32m    770\u001b[0m state\u001b[38;5;241m.\u001b[39mnumdocs \u001b[38;5;241m+\u001b[39m\u001b[38;5;241m=\u001b[39m gamma\u001b[38;5;241m.\u001b[39mshape[\u001b[38;5;241m0\u001b[39m]  \u001b[38;5;66;03m# avoids calling len(chunk) on a generator\u001b[39;00m\n",
      "File \u001b[1;32m~\\AppData\\Local\\Programs\\Python\\Python311\\Lib\\site-packages\\gensim\\models\\ldamodel.py:722\u001b[0m, in \u001b[0;36mLdaModel.inference\u001b[1;34m(self, chunk, collect_sstats)\u001b[0m\n\u001b[0;32m    720\u001b[0m Elogthetad \u001b[38;5;241m=\u001b[39m dirichlet_expectation(gammad)\n\u001b[0;32m    721\u001b[0m expElogthetad \u001b[38;5;241m=\u001b[39m np\u001b[38;5;241m.\u001b[39mexp(Elogthetad)\n\u001b[1;32m--> 722\u001b[0m phinorm \u001b[38;5;241m=\u001b[39m \u001b[43mnp\u001b[49m\u001b[38;5;241;43m.\u001b[39;49m\u001b[43mdot\u001b[49m\u001b[43m(\u001b[49m\u001b[43mexpElogthetad\u001b[49m\u001b[43m,\u001b[49m\u001b[43m \u001b[49m\u001b[43mexpElogbetad\u001b[49m\u001b[43m)\u001b[49m \u001b[38;5;241m+\u001b[39m epsilon\n\u001b[0;32m    723\u001b[0m \u001b[38;5;66;03m# If gamma hasn't changed much, we're done.\u001b[39;00m\n\u001b[0;32m    724\u001b[0m meanchange \u001b[38;5;241m=\u001b[39m mean_absolute_difference(gammad, lastgamma)\n",
      "\u001b[1;31mKeyboardInterrupt\u001b[0m: "
     ]
    }
   ],
   "source": [
    "from sklearn.model_selection import train_test_split\n",
    "\n",
    "train_df, valid_df = train_test_split(dtm, test_size=0.5, random_state=53)\n",
    "\n",
    "\n",
    "np.random.seed(1)\n",
    "k_range = range(10,25)\n",
    "scores = []\n",
    "for k in k_range:\n",
    "    lda_model = ldamodel.LdaModel(train_df, num_topics=k, id2word=dictionary, passes=20)\n",
    "    cm = CoherenceModel(model = lda_model, corpus = train_df, dictionary = dictionary, coherence = \"u_mass\")\n",
    "    print(cm.get_coherence())\n",
    "    scores.append(cm.get_coherence())\n",
    "plt.figure()\n",
    "plt.plot(k_range, scores)"
   ]
  },
  {
   "cell_type": "code",
   "execution_count": 14,
   "id": "f7bfd9ef-e7a3-4bda-9ff5-91db63f2324d",
   "metadata": {},
   "outputs": [
    {
     "name": "stdout",
     "output_type": "stream",
     "text": [
      "Iteration 10: Coherence Score = -0.9103\n",
      "Iteration 15: Coherence Score = -1.3645\n",
      "Iteration 20: Coherence Score = -1.2033\n",
      "Iteration 25: Coherence Score = -1.1778\n",
      "Iteration 30: Coherence Score = -1.1845\n",
      "Iteration 35: Coherence Score = -1.1850\n",
      "Iteration 40: Coherence Score = -1.1875\n",
      "Iteration 45: Coherence Score = -1.1849\n",
      "Iteration 50: Coherence Score = -1.2292\n",
      "Iteration 55: Coherence Score = -1.2272\n",
      "Iteration 60: Coherence Score = -1.2426\n",
      "Iteration 65: Coherence Score = -1.2205\n",
      "Iteration 70: Coherence Score = -1.2266\n",
      "Iteration 75: Coherence Score = -1.2404\n",
      "Iteration 80: Coherence Score = -1.2381\n",
      "Iteration 85: Coherence Score = -1.2347\n",
      "Iteration 90: Coherence Score = -1.2384\n",
      "Iteration 95: Coherence Score = -1.2393\n"
     ]
    }
   ],
   "source": [
    "# Specify the number of topics you want to extract\n",
    "num_topics = 10  # Adjust the number of topics as needed\n",
    "\n",
    "# Initialize LDA model\n",
    "lda_model = ldamodel.LdaModel(corpus=train_df, id2word=dictionary, num_topics=num_topics, iterations=100)\n",
    "\n",
    "\n",
    "# Iterate over a range of iterations, and check coherence every 5th iteration\n",
    "for iteration in range(10, 100):  # Adjust the range based on your total number of iterations\n",
    "    lda_model.update(train_df)  # Perform one iteration of LDA\n",
    "    if iteration % 5 == 0:\n",
    "        cm = CoherenceModel(model=lda_model, corpus=valid_df, dictionary=dictionary, coherence = \"u_mass\")\n",
    "        coherence_score = cm.get_coherence()\n",
    "        print(f\"Iteration {iteration}: Coherence Score = {coherence_score:.4f}\")\n",
    "\n"
   ]
  },
  {
   "cell_type": "code",
   "execution_count": 20,
   "id": "bb2cfa6c-ebd9-4eb5-a41e-c94838380d5b",
   "metadata": {},
   "outputs": [
    {
     "name": "stdout",
     "output_type": "stream",
     "text": [
      "Topic 1:\n",
      "[('practice', 0.0046650437), ('local', 0.004457202), ('digital', 0.004138977), ('museum', 0.00409837), ('workshop', 0.0040068016), ('history', 0.0038713403), ('academic', 0.0037856821), ('social', 0.0037805932), ('people', 0.0036734154), ('benefit', 0.0036277284), ('group', 0.0035610246), ('art', 0.0035296606), ('policy', 0.0033837424), ('knowledge', 0.0032751202), ('way', 0.0032631152), ('heritage', 0.003247942), ('music', 0.003126008), ('development', 0.003101195), ('national', 0.0030381132), ('different', 0.0029144494)]\n",
      "\n",
      "Topic 2:\n",
      "[('art', 0.005549456), ('social', 0.0050637596), ('heritage', 0.0047210352), ('international', 0.0046223304), ('history', 0.0043842774), ('knowledge', 0.004173488), ('practice', 0.0041119438), ('understanding', 0.004091939), ('people', 0.004035173), ('benefit', 0.0039005687), ('local', 0.0037247608), ('policy', 0.0036475318), ('aim', 0.0033892812), ('group', 0.0032955136), ('creative', 0.0032798909), ('academic', 0.0032629995), ('partner', 0.0030939647), ('music', 0.0030840843), ('museum', 0.0030609265), ('digital', 0.002959704)]\n",
      "\n",
      "Topic 3:\n",
      "[('history', 0.004903484), ('museum', 0.004756908), ('heritage', 0.0041205087), ('art', 0.003898276), ('academic', 0.0037949895), ('knowledge', 0.0037509364), ('policy', 0.003739381), ('national', 0.003588137), ('activity', 0.0035519921), ('event', 0.0034006156), ('audience', 0.0033807012), ('resource', 0.003335788), ('local', 0.0033246237), ('collection', 0.0033063288), ('international', 0.0032595922), ('language', 0.0032083746), ('way', 0.0031918543), ('digital', 0.003152361), ('people', 0.0029612104), ('aim', 0.00294281)]\n",
      "\n",
      "Topic 4:\n",
      "[('practice', 0.00560394), ('art', 0.0051952987), ('knowledge', 0.0050921915), ('museum', 0.00457851), ('group', 0.004353081), ('history', 0.004333179), ('workshop', 0.0040033706), ('social', 0.003993709), ('understanding', 0.00346714), ('heritage', 0.0033642089), ('academic', 0.0033382014), ('way', 0.0033369358), ('engagement', 0.0032930705), ('creative', 0.0032490066), ('event', 0.0031684053), ('benefit', 0.003152938), ('partner', 0.0030445468), ('resource', 0.0029821268), ('activity', 0.002957552), ('national', 0.0029031923)]\n",
      "\n",
      "Topic 5:\n",
      "[('practice', 0.0045072124), ('group', 0.0045059007), ('way', 0.004166021), ('museum', 0.00411837), ('people', 0.003705662), ('benefit', 0.003672196), ('policy', 0.003529867), ('history', 0.0034590322), ('use', 0.0034272857), ('heritage', 0.0033834463), ('social', 0.003348596), ('understanding', 0.0033351392), ('organisation', 0.003297612), ('engagement', 0.0032863196), ('experience', 0.00322758), ('partner', 0.0031016655), ('audience', 0.002920117), ('workshop', 0.0028889675), ('local', 0.0028705194), ('future', 0.0028476636)]\n",
      "\n",
      "Topic 6:\n",
      "[('heritage', 0.0058637634), ('benefit', 0.005190009), ('people', 0.0050288066), ('history', 0.0047410056), ('local', 0.0042955982), ('digital', 0.0039208005), ('social', 0.0037704047), ('resource', 0.0036799358), ('museum', 0.003563799), ('aim', 0.003465529), ('group', 0.0034372944), ('engagement', 0.003420399), ('national', 0.003403985), ('way', 0.0033769382), ('art', 0.0033688836), ('practice', 0.003211608), ('development', 0.0032039038), ('academic', 0.003103467), ('organisation', 0.003047553), ('potential', 0.0030324447)]\n",
      "\n",
      "Topic 7:\n",
      "[('art', 0.005539961), ('group', 0.0055386317), ('creative', 0.0049777436), ('activity', 0.0049339896), ('digital', 0.0046510315), ('history', 0.004588684), ('social', 0.0043776324), ('practice', 0.0043739607), ('benefit', 0.004165582), ('policy', 0.0037713165), ('academic', 0.0036823868), ('experience', 0.0035236645), ('way', 0.0034864452), ('use', 0.0034138495), ('organisation', 0.0032863014), ('workshop', 0.0032111472), ('museum', 0.0031988244), ('event', 0.0031524536), ('audience', 0.003125706), ('people', 0.0030586603)]\n",
      "\n",
      "Topic 8:\n",
      "[('heritage', 0.0051643616), ('history', 0.004898122), ('practice', 0.0046882536), ('art', 0.004583351), ('event', 0.004537844), ('people', 0.0045366753), ('understanding', 0.004060015), ('experience', 0.0039083846), ('group', 0.0038965896), ('benefit', 0.003851297), ('museum', 0.0037064147), ('academic', 0.0037002428), ('local', 0.0034818747), ('policy', 0.00333646), ('development', 0.0033361602), ('workshop', 0.003323169), ('way', 0.0032299736), ('aim', 0.003102542), ('knowledge', 0.0029707914), ('collection', 0.0029353362)]\n",
      "\n",
      "Topic 9:\n",
      "[('museum', 0.004481659), ('group', 0.00419276), ('social', 0.0038768877), ('practice', 0.0037696748), ('benefit', 0.00376394), ('history', 0.003584244), ('local', 0.0034981822), ('collection', 0.0034518235), ('data', 0.0034393717), ('academic', 0.0034316152), ('art', 0.0034048045), ('activity', 0.0031835844), ('material', 0.0031301926), ('people', 0.003102616), ('way', 0.0030483895), ('creative', 0.0028999432), ('knowledge', 0.0028912297), ('heritage', 0.0028757963), ('resource', 0.0028375848), ('policy', 0.002809029)]\n",
      "\n",
      "Topic 10:\n",
      "[('museum', 0.005094783), ('history', 0.0048086396), ('art', 0.00471829), ('social', 0.0042681242), ('audience', 0.0041854577), ('academic', 0.0040259454), ('national', 0.0038735552), ('people', 0.0037977328), ('practice', 0.0036751502), ('heritage', 0.0034775627), ('benefit', 0.0034765862), ('event', 0.003264528), ('activity', 0.0032067006), ('creative', 0.0031783073), ('engagement', 0.0031668546), ('group', 0.0031613614), ('policy', 0.0031314925), ('experience', 0.0028754633), ('knowledge', 0.0028435423), ('digital', 0.0028220974)]\n",
      "\n"
     ]
    }
   ],
   "source": [
    "# Specify the number of topics you want to extract\n",
    "num_topics = 10  # Adjust the number of topics as needed\n",
    "\n",
    "# Initialize LDA model\n",
    "lda_model10 = ldamodel.LdaModel(corpus=dtm, id2word=dictionary, num_topics=num_topics, iterations=10)\n",
    "\n",
    "\n",
    "num_topics = lda_model10.num_topics  # Get the total number of topics in the model\n",
    "\n",
    "# Print all identified topics with their top terms\n",
    "for topic_id in range(num_topics):\n",
    "    print(f\"Topic {topic_id + 1}:\")\n",
    "    print(lda_model10.show_topic(topic_id, topn = 20))\n",
    "    print()"
   ]
  },
  {
   "cell_type": "code",
   "execution_count": 21,
   "id": "ee6d4409-fbac-4074-a89a-fdef04ad6440",
   "metadata": {},
   "outputs": [
    {
     "name": "stdout",
     "output_type": "stream",
     "text": [
      "Topic 1:\n",
      "[('museum', 0.0059046755), ('benefit', 0.0048836195), ('collection', 0.004646591), ('social', 0.0045608184), ('practice', 0.004538641), ('history', 0.0044864165), ('art', 0.004307728), ('music', 0.0042779613), ('group', 0.0041255015), ('heritage', 0.0041112253), ('local', 0.004038574), ('academic', 0.0039820443), ('knowledge', 0.00397716), ('engagement', 0.0039771274), ('digital', 0.003405263), ('policy', 0.0032749076), ('experience', 0.0032406708), ('development', 0.0032093432), ('workshop', 0.0032002227), ('activity', 0.0031279773)]\n",
      "\n",
      "Topic 2:\n",
      "[('group', 0.0050332593), ('creative', 0.0047435462), ('social', 0.004666353), ('local', 0.004552101), ('people', 0.0045367274), ('organisation', 0.004513502), ('practice', 0.0044953777), ('data', 0.004339397), ('knowledge', 0.004141969), ('health', 0.0041097756), ('development', 0.004048634), ('national', 0.0039483802), ('benefit', 0.0037310135), ('heritage', 0.003675266), ('support', 0.0036523978), ('art', 0.0035445972), ('policy', 0.003474348), ('partner', 0.0034741343), ('activity', 0.0032286134), ('wider', 0.0031805648)]\n",
      "\n",
      "Topic 3:\n",
      "[('art', 0.0066490415), ('museum', 0.005509092), ('practice', 0.0047639343), ('heritage', 0.004514169), ('group', 0.004462584), ('workshop', 0.0044364706), ('medium', 0.0038330124), ('history', 0.0037644769), ('academic', 0.003638356), ('local', 0.003617567), ('social', 0.0035996605), ('event', 0.0035144116), ('knowledge', 0.003434187), ('understanding', 0.0033570374), ('use', 0.0032054484), ('exhibition', 0.0031993028), ('audience', 0.003128299), ('people', 0.003088313), ('music', 0.0030457666), ('value', 0.0030130707)]\n",
      "\n",
      "Topic 4:\n",
      "[('museum', 0.005133119), ('practice', 0.0048220544), ('digital', 0.0045704786), ('group', 0.003923864), ('heritage', 0.0037912442), ('benefit', 0.0036933648), ('national', 0.0036514779), ('workshop', 0.003544676), ('people', 0.0034905183), ('understanding', 0.0034822584), ('knowledge', 0.0034743145), ('partner', 0.0034363968), ('material', 0.003303573), ('experience', 0.0031988723), ('provide', 0.0031709236), ('university', 0.003120026), ('design', 0.0029702263), ('event', 0.0029322982), ('professional', 0.0028740366), ('activity', 0.0028688258)]\n",
      "\n",
      "Topic 5:\n",
      "[('art', 0.0062377406), ('heritage', 0.004845276), ('policy', 0.00460838), ('people', 0.00451619), ('event', 0.004443323), ('international', 0.0042554974), ('academic', 0.0042115347), ('way', 0.004113705), ('digital', 0.0039177467), ('benefit', 0.003851864), ('creative', 0.0037543697), ('practice', 0.0037030668), ('development', 0.0036341671), ('social', 0.0034376278), ('group', 0.0033903557), ('knowledge', 0.0032373006), ('history', 0.003114133), ('organisation', 0.0029396808), ('activity', 0.0029163759), ('museum', 0.0029047623)]\n",
      "\n",
      "Topic 6:\n",
      "[('history', 0.0065079657), ('heritage', 0.005322101), ('group', 0.004674154), ('benefit', 0.0045772414), ('local', 0.0045733573), ('academic', 0.0043792916), ('people', 0.004268764), ('creative', 0.0040343185), ('art', 0.003635562), ('national', 0.0034960383), ('way', 0.003464401), ('understanding', 0.0033847215), ('event', 0.0033807948), ('social', 0.0033641863), ('activity', 0.0031982856), ('engagement', 0.0030551946), ('policy', 0.0029904973), ('development', 0.0029894009), ('partner', 0.0029191116), ('audience', 0.0028351082)]\n",
      "\n",
      "Topic 7:\n",
      "[('language', 0.0052587525), ('art', 0.004721378), ('practice', 0.0046055736), ('group', 0.0037764248), ('history', 0.0037166227), ('health', 0.0036858665), ('experience', 0.0036104294), ('understanding', 0.0035462033), ('academic', 0.0035278955), ('event', 0.003525784), ('knowledge', 0.0035015075), ('social', 0.0034232244), ('international', 0.0033618882), ('creative', 0.0031200007), ('organisation', 0.0029578474), ('audience', 0.0028637082), ('culture', 0.0028329447), ('policy', 0.0028161346), ('way', 0.0027935302), ('engagement', 0.002726381)]\n",
      "\n",
      "Topic 8:\n",
      "[('museum', 0.0051948), ('digital', 0.0050651), ('history', 0.0046656397), ('heritage', 0.004308534), ('social', 0.0039434214), ('practice', 0.0038512403), ('group', 0.0038494228), ('understanding', 0.0037711305), ('use', 0.003596975), ('benefit', 0.0034616399), ('knowledge', 0.0032851468), ('people', 0.0032024696), ('experience', 0.00315082), ('creative', 0.0031422286), ('provide', 0.0031284597), ('international', 0.0030920038), ('event', 0.0030135147), ('art', 0.002945304), ('material', 0.0029048785), ('audience', 0.0028469623)]\n",
      "\n",
      "Topic 9:\n",
      "[('history', 0.006202272), ('art', 0.0043487856), ('social', 0.0043231095), ('policy', 0.004052162), ('people', 0.004043931), ('local', 0.0038979186), ('resource', 0.0038865719), ('museum', 0.0038825157), ('way', 0.0037616638), ('academic', 0.003696673), ('design', 0.0035172645), ('experience', 0.003440167), ('activity', 0.0032973706), ('benefit', 0.00315984), ('partner', 0.0031518412), ('engagement', 0.0031476843), ('collection', 0.0031331677), ('organisation', 0.003132667), ('heritage', 0.0031083638), ('knowledge', 0.0030005837)]\n",
      "\n",
      "Topic 10:\n",
      "[('language', 0.005536522), ('practice', 0.0053755706), ('activity', 0.0051822914), ('art', 0.004927357), ('history', 0.0045757284), ('social', 0.0041217636), ('museum', 0.004109252), ('workshop', 0.0041032066), ('benefit', 0.0038918029), ('way', 0.0036612249), ('aim', 0.0035039356), ('people', 0.0034412425), ('academic', 0.0034287751), ('engagement', 0.003320822), ('event', 0.0032232367), ('organisation', 0.003112036), ('national', 0.0030970508), ('group', 0.0030956012), ('different', 0.003068607), ('development', 0.0030312855)]\n",
      "\n"
     ]
    }
   ],
   "source": [
    "# Specify the number of topics you want to extract\n",
    "num_topics = 10  # Adjust the number of topics as needed\n",
    "\n",
    "# Initialize LDA model\n",
    "lda_model25 = ldamodel.LdaModel(corpus=dtm, id2word=dictionary, num_topics=num_topics, iterations=25)\n",
    "\n",
    "\n",
    "num_topics = lda_model25.num_topics  # Get the total number of topics in the model\n",
    "\n",
    "# Print all identified topics with their top terms\n",
    "for topic_id in range(num_topics):\n",
    "    print(f\"Topic {topic_id + 1}:\")\n",
    "    print(lda_model25.show_topic(topic_id, topn = 20))\n",
    "    print()"
   ]
  },
  {
   "cell_type": "code",
   "execution_count": 23,
   "id": "d4017172-1493-428b-867a-c1e09112a484",
   "metadata": {},
   "outputs": [
    {
     "name": "stdout",
     "output_type": "stream",
     "text": [
      "Topic 1:\n",
      "[('heritage', 0.009813383), ('local', 0.0076543405), ('art', 0.0076155933), ('partner', 0.0066566924), ('practice', 0.0060110474), ('creative', 0.0058965357), ('knowledge', 0.0055530816), ('activity', 0.005314126), ('organisation', 0.0052511906), ('engagement', 0.0050156903), ('benefit', 0.004643099), ('group', 0.0044111544), ('people', 0.0040410943), ('value', 0.0039029457), ('academic', 0.003895448), ('resource', 0.003638145), ('social', 0.0034383135), ('develop', 0.003308507), ('aim', 0.0032855817), ('development', 0.0032588337)]\n",
      "\n",
      "Topic 2:\n",
      "[('creative', 0.008438696), ('psm', 0.0060220854), ('design', 0.0047755884), ('support', 0.0044842395), ('university', 0.0044120206), ('industry', 0.004177546), ('value', 0.0040866258), ('knowledge', 0.0039216005), ('economy', 0.0038603297), ('benefit', 0.0037707342), ('academic', 0.0035065578), ('practice', 0.0034694031), ('digital', 0.0033978503), ('sector', 0.0033080694), ('culture', 0.0032884309), ('innovation', 0.0031722884), ('policy', 0.003160032), ('provide', 0.0031298113), ('development', 0.0030946787), ('site', 0.0029718315)]\n",
      "\n",
      "Topic 3:\n",
      "[('museum', 0.007801159), ('history', 0.005221026), ('practice', 0.0047373306), ('social', 0.004475222), ('group', 0.004459311), ('art', 0.0044566207), ('academic', 0.004202042), ('international', 0.0039118836), ('digital', 0.0037910854), ('activity', 0.0036714338), ('policy', 0.0035186845), ('benefit', 0.0034991712), ('experience', 0.003357694), ('heritage', 0.0033576575), ('understanding', 0.0033548167), ('event', 0.0033438667), ('way', 0.0033299006), ('collection', 0.003323805), ('national', 0.0033171603), ('people', 0.003247523)]\n",
      "\n",
      "Topic 4:\n",
      "[('performance', 0.005162185), ('audience', 0.0050136466), ('benefit', 0.0041939025), ('art', 0.003981223), ('workshop', 0.0038029437), ('medium', 0.0036863734), ('material', 0.0033961628), ('practice', 0.003339719), ('technology', 0.0032508848), ('music', 0.003250125), ('theatre', 0.0031891533), ('understanding', 0.003159872), ('exhibition', 0.0031411299), ('experience', 0.003119236), ('process', 0.0029196746), ('context', 0.002908379), ('way', 0.002823916), ('professional', 0.00277844), ('potential', 0.002776675), ('event', 0.002751929)]\n",
      "\n",
      "Topic 5:\n",
      "[('translation', 0.0059429063), ('faith', 0.0043404857), ('way', 0.0042120283), ('practice', 0.0041153985), ('religious', 0.004008735), ('poetry', 0.0039374935), ('academic', 0.0033670815), ('genocide', 0.0030615977), ('urban', 0.0027045282), ('group', 0.002675232), ('history', 0.0025602486), ('opportunity', 0.002549686), ('event', 0.0025406035), ('local', 0.0025322929), ('film', 0.0025018717), ('benefit', 0.0024117804), ('poem', 0.0024095033), ('social', 0.0024090582), ('understanding', 0.0022920668), ('culture', 0.0022858817)]\n",
      "\n",
      "Topic 6:\n",
      "[('language', 0.007270375), ('people', 0.006365606), ('history', 0.00634133), ('data', 0.0052625877), ('social', 0.004603187), ('group', 0.004246382), ('digital', 0.004066492), ('benefit', 0.0037274712), ('film', 0.003525987), ('way', 0.0033767205), ('heritage', 0.00335682), ('event', 0.003349185), ('resource', 0.0032818164), ('art', 0.0032690875), ('english', 0.003207834), ('use', 0.0031368402), ('workshop', 0.0031173672), ('medium', 0.00300416), ('academic', 0.0029808497), ('national', 0.0029667825)]\n",
      "\n",
      "Topic 7:\n",
      "[('policy', 0.0039902735), ('history', 0.0035503835), ('local', 0.0034155014), ('use', 0.0032813614), ('knowledge', 0.0032708633), ('national', 0.0032102342), ('moral', 0.0032036246), ('way', 0.0031188135), ('benefit', 0.003106622), ('understanding', 0.002991878), ('development', 0.0028659245), ('social', 0.0028345021), ('explanation', 0.002801914), ('museum', 0.002724873), ('issue', 0.0025943706), ('workshop', 0.0025457197), ('academic', 0.002525419), ('science', 0.0024600134), ('analysis', 0.0024508708), ('practice', 0.0024008583)]\n",
      "\n",
      "Topic 8:\n",
      "[('infection', 0.0058813267), ('practice', 0.004199511), ('design', 0.0038191406), ('human', 0.0037449047), ('benefit', 0.0035210405), ('hospital', 0.0034745631), ('veterinary', 0.003115324), ('art', 0.0029905245), ('amr', 0.0028803626), ('understanding', 0.0028508822), ('principle', 0.0028021962), ('way', 0.0027809653), ('role', 0.0027369661), ('risk', 0.0026553036), ('people', 0.0025775414), ('use', 0.0025743644), ('control', 0.0024380786), ('group', 0.0024136805), ('vet', 0.0023025258), ('right', 0.002281209)]\n",
      "\n"
     ]
    }
   ],
   "source": [
    "# Specify the number of topics you want to extract\n",
    "num_topics = 8  # Adjust the number of topics as needed\n",
    "\n",
    "# Initialize LDA model\n",
    "lda_model300 = ldamodel.LdaModel(corpus=dtm, id2word=dictionary, num_topics=num_topics, iterations=300)\n",
    "\n",
    "# Print all identified topics with their top terms\n",
    "for topic_id in range(num_topics):\n",
    "    print(f\"Topic {topic_id + 1}:\")\n",
    "    print(lda_model300.show_topic(topic_id, topn = 20))\n",
    "    print()"
   ]
  },
  {
   "cell_type": "code",
   "execution_count": null,
   "id": "e76cdc85-d7e1-4d22-bd14-808d8212f311",
   "metadata": {},
   "outputs": [],
   "source": []
  },
  {
   "cell_type": "code",
   "execution_count": null,
   "id": "b61c4a4e-d78a-41e4-a861-b8166dcf0879",
   "metadata": {},
   "outputs": [],
   "source": []
  },
  {
   "cell_type": "code",
   "execution_count": null,
   "id": "b8ecb123-3874-49f8-8295-b5e445d8e260",
   "metadata": {},
   "outputs": [],
   "source": []
  },
  {
   "cell_type": "code",
   "execution_count": null,
   "id": "7b372ff7-587d-4648-b127-992c64d59b89",
   "metadata": {},
   "outputs": [],
   "source": []
  },
  {
   "cell_type": "code",
   "execution_count": null,
   "id": "96c6d5c9-4282-4132-a9dc-ce2ec552cd86",
   "metadata": {},
   "outputs": [],
   "source": []
  }
 ],
 "metadata": {
  "kernelspec": {
   "display_name": "Python 3 (ipykernel)",
   "language": "python",
   "name": "python3"
  },
  "language_info": {
   "codemirror_mode": {
    "name": "ipython",
    "version": 3
   },
   "file_extension": ".py",
   "mimetype": "text/x-python",
   "name": "python",
   "nbconvert_exporter": "python",
   "pygments_lexer": "ipython3",
   "version": "3.11.5"
  }
 },
 "nbformat": 4,
 "nbformat_minor": 5
}
